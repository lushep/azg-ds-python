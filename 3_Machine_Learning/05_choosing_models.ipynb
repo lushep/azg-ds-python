{
 "cells": [
  {
   "cell_type": "markdown",
   "metadata": {
    "slideshow": {
     "slide_type": "slide"
    }
   },
   "source": [
    "# Choosing the right Machine Learning model\n",
    "\n",
    "## There are many groups of models out there:\n",
    "\n",
    "- Regression Algorithms\n",
    "- Instance-based Algorithms\n",
    "- Regularization Algorithms   \n",
    "- Decision Tree Algorithms\n",
    "- Bayesian Algorithms\n",
    "- Ensemble Algorithms\n",
    "- Clustering Algorithms\n",
    "- Deep Learning Algorithms\n",
    "- Dimensionality Reduction Algorithms\n",
    "- and more.."
   ]
  },
  {
   "cell_type": "markdown",
   "metadata": {
    "slideshow": {
     "slide_type": "slide"
    }
   },
   "source": [
    "### How to choose the right one for your problem?\n",
    "\n",
    "- Know your data\n",
    "- Know your priorities\n",
    "- Know the involved trade-offs\n",
    "- ...\n",
    "\n",
    "This lecture will further introduce you to different families of ML algorithms and help you choose the ones most suitable for your problem"
   ]
  },
  {
   "cell_type": "markdown",
   "metadata": {
    "slideshow": {
     "slide_type": "slide"
    }
   },
   "source": [
    "## Regression Algorithms\n",
    "\n",
    "Explicitly modeling the relationship between variables that is iteratively refined using a measure of error in the predictions made by the model.\n",
    "\n",
    "- Linear Regression \n",
    "- Logistic Regression\n",
    "- LASSO / Ridge Regression\n",
    "- Elastic Net\n",
    "- Locally Estimated Scatterplot Smoothing (LOESS)\n",
    "- ...\n",
    "\n",
    "<img src=\"images/algorithms/Regression-Algorithms.png\" style=\"display: block;margin-left: auto;margin-right: auto;height: 200px\"/>"
   ]
  },
  {
   "cell_type": "markdown",
   "metadata": {
    "slideshow": {
     "slide_type": "subslide"
    }
   },
   "source": [
    "## Regression Algorithms\n",
    "\n",
    "### Logistic Regression\n",
    "\n",
    "Predicts the probability of a binary (0/1) target variable. Multinomial / Ordered logistic regression can have a target variable 3 or more possible unordered / ordered outcomes.\n",
    "\n",
    "\n",
    "<img src=\"images/algorithms/logistic.png\" style=\"display: block;margin-left: auto;margin-right: auto;height: 350px\"/>\n",
    "\n",
    "*In Scikit-Learn:* [sklearn.linear_model.LogisticRegression](https://scikit-learn.org/stable/modules/generated/sklearn.linear_model.LogisticRegression.html)"
   ]
  },
  {
   "cell_type": "markdown",
   "metadata": {
    "slideshow": {
     "slide_type": "subslide"
    }
   },
   "source": [
    "## Regression Algorithms\n",
    "\n",
    "**Pros**:\n",
    "\n",
    "- Simple & Interpretable\n",
    "- Small number of hyperparmeters\n",
    "- Overfitting can be addressed though regularization \n",
    "- Fast\n",
    "\n",
    "**Cons**:\n",
    "\n",
    "- Assumes a specific relationship\n",
    "- Sensitive to outliers\n",
    "- Sensitive to feature scaling\n",
    "- Complex hypothesis functions are often difficult to fit"
   ]
  },
  {
   "cell_type": "markdown",
   "metadata": {
    "slideshow": {
     "slide_type": "slide"
    }
   },
   "source": [
    "## Instance-based Algorithms\n",
    "\n",
    "Build up a reference database of example data and compare new data to the database using some similarity measure in order to find the best match and make a prediction\n",
    "\n",
    "- k-Nearest Neighbors (kNN)\n",
    "- Self-Organizing Map (SOM)\n",
    "- Support Vector Machines (SVM)\n",
    "- Locally Weighted Learning (LWL)\n",
    "- ...\n",
    "\n",
    "<img src=\"images/algorithms/Instance-based-Algorithms.png\" style=\"display: block;margin-left: auto;margin-right: auto;height: 200px\"/>"
   ]
  },
  {
   "cell_type": "markdown",
   "metadata": {
    "slideshow": {
     "slide_type": "subslide"
    }
   },
   "source": [
    "## Instance-based Algorithms\n",
    "\n",
    "### k-Nearest Neighbors (kNN)\n",
    "\n",
    "To predict the class of a new point, kNN finds the **k** nearest neighbors of that point based on mathematical distance. The majority class of these points is selected as the prediction. kNN assumes that similar things exist in close proximity.\n",
    "\n",
    "\n",
    "<img src=\"images/algorithms/KnnClassification.png\" style=\"display: block;margin-left: auto;margin-right: auto;height: 250px\"/>\n",
    "\n",
    "*In Scikit-Learn:* [sklearn.neighbors.KNeighborsClassifier](https://scikit-learn.org/stable/modules/generated/sklearn.neighbors.KNeighborsClassifier.html)"
   ]
  },
  {
   "cell_type": "markdown",
   "metadata": {
    "slideshow": {
     "slide_type": "subslide"
    }
   },
   "source": [
    "## Instance-based Algorithms\n",
    "\n",
    "### Support Vector Machines (SVM)\n",
    "\n",
    "Tries to isolate groups of observations from each other by finding a hyperplane with maximum distance from data points of both classes. 'Support vectors' are used to find such hyperplane and are based on the data points closest to it. SVM-family algorithms can be used not only for classification, but also for regression and outliers detection.\n",
    "\n",
    "<img src=\"images/algorithms/svm.png\" style=\"display: block;margin-left: auto;margin-right: auto;height: 350px\"/>\n",
    "\n",
    "*In Scikit-Learn:* [sklearn.svm.SVC](https://scikit-learn.org/stable/modules/generated/sklearn.svm.SVC.html)"
   ]
  },
  {
   "cell_type": "markdown",
   "metadata": {
    "slideshow": {
     "slide_type": "subslide"
    }
   },
   "source": [
    "## Instance-based Algorithms\n",
    "\n",
    "**Pros**:\n",
    "\n",
    "- Can be fast and performant provided enough representative data\n",
    "- Can be rather fast (especially kNN and linear SVM)\n",
    "- Easy to add more training examples (especially kNN)\n",
    "- SVMs have many kernels to choose from\n",
    "\n",
    "**Cons**:\n",
    "\n",
    "- Can be sensitive to missing values and outliers\n",
    "- Noise in the features might flip the results\n",
    "- Sensitive to feature scaling"
   ]
  },
  {
   "cell_type": "markdown",
   "metadata": {
    "slideshow": {
     "slide_type": "slide"
    }
   },
   "source": [
    "## Decision Tree Algorithms\n",
    "\n",
    "Rule-based learning methods that usually use information gain criteria to split the dataset at a series of decisions, made at nodes. At the very end of the branches are leaf nodes that represent a class or regression outcome from the tree unless tree depth is restricted. When trained, result in readable decision diagrams.\n",
    "\n",
    "- Classification and Regression Tree (CART)\n",
    "- Decision Stump\n",
    "- Conditional Decision Trees\n",
    "- ...\n",
    "\n",
    "<img src=\"images/algorithms/Decision-Tree-Algorithms.png\" style=\"display: block;margin-left: auto;margin-right: auto;height: 200px\"/>"
   ]
  },
  {
   "cell_type": "markdown",
   "metadata": {
    "slideshow": {
     "slide_type": "subslide"
    }
   },
   "source": [
    "## Decision Tree Algorithms\n",
    "\n",
    "**Pros**:\n",
    "\n",
    "- Easy to implement\n",
    "- Highly interpretable\n",
    "- Can learn complex relationships\n",
    "- Requires little data preprocessing\n",
    "- Insensitive to missing values\n",
    "\n",
    "**Cons**:\n",
    "\n",
    "- Very prone to overfitting unless pruning is used \n",
    "- Not robust to small changes in the training data\n",
    "- Individual trees usually perform worse than ensembles of trees"
   ]
  },
  {
   "cell_type": "markdown",
   "metadata": {
    "slideshow": {
     "slide_type": "slide"
    }
   },
   "source": [
    "## Ensemble Algorithms\n",
    "\n",
    "Large models composed of multiple weaker models that are independently trained and whose predictions are combined in some way to make the overall prediction. One of the most powerful and popular algorithm families.\n",
    "\n",
    "- Bootstrapped Aggregation (Bagging)\n",
    "- Random Forest\n",
    "- Gradient Boosting\n",
    "- AdaBoost\n",
    "- XGBoost\n",
    "- ...\n",
    "\n",
    "<img src=\"images/algorithms/Ensemble-Algorithms.png\" style=\"display: block;margin-left: auto;margin-right: auto;height: 200px\"/>"
   ]
  },
  {
   "cell_type": "markdown",
   "metadata": {
    "slideshow": {
     "slide_type": "subslide"
    }
   },
   "source": [
    "## Ensemble Algorithms\n",
    "### Bagging and Random Forests\n",
    "A large number of independent unrestricted decision trees is trained on (bootstrapped) subsamples of the training data (and with a random selection of features in case of RF). After each tree produces a prediction, voting / averaging over all of them is used to produce the final prediction. While each tree has low bias and high variance, combining them averages out the variance, ideally resulting in a balanced low bias low variance model.\n",
    "<img src=\"images/algorithms/bagged-trees.png\" style=\"display: block;margin-left: auto;margin-right: auto;height: 350px\"/>\n",
    "*In Scikit-Learn:* [sklearn.ensemble.RandomForestClassifier / .RandomForestRegressor](https://scikit-learn.org/stable/modules/generated/sklearn.ensemble.RandomForestRegressor.html)"
   ]
  },
  {
   "cell_type": "markdown",
   "metadata": {
    "slideshow": {
     "slide_type": "subslide"
    }
   },
   "source": [
    "## Ensemble Algorithms\n",
    "### Adaptive boosting and Gradient boosting\n",
    "Iteratively improve the original weak model by focusing on improving its weaknesses at each new iteration. In Adaptive boosting it is done by reweighting the misclassified samples at each new step, while in Gradient boosting the current weaknesses with gradients are identified. The final iteratively improved model often proves to be very powerful.\n",
    "\n",
    "<img src=\"images/algorithms/boosting.png\" style=\"display: block;margin-left: auto;margin-right: auto;height: 300px\"/>\n",
    "\n",
    "*In Scikit-Learn:* [sklearn.ensemble.AdaBoostClassifier](https://scikit-learn.org/stable/modules/generated/sklearn.ensemble.AdaBoostClassifier.html) and [ sklearn.ensemble.GradientBoostingClassifier](https://scikit-learn.org/stable/modules/generated/sklearn.ensemble.GradientBoostingClassifier.html)"
   ]
  },
  {
   "cell_type": "markdown",
   "metadata": {
    "slideshow": {
     "slide_type": "subslide"
    }
   },
   "source": [
    "## Ensemble Algorithms\n",
    "\n",
    "**Pros**:\n",
    "\n",
    "- High performance (competition-winning)\n",
    "- Robust to missing data, highly correlated and irrelevant features\n",
    "- Less likely to overfit than individual weak learners\n",
    "- Keep many pros of the used weak learners (e.g. DTs)\n",
    "- Still interpretable via feature importance scores \n",
    "- Insensitive to missing values\n",
    "- Can learn complex relationships\n",
    "\n",
    "**Cons**:\n",
    "\n",
    "- Much less interpretability than in the used weak learners\n",
    "- More computationally expensive than individual models\n",
    "- Highly sensitive to non-representative training data (non-random samples)"
   ]
  },
  {
   "cell_type": "markdown",
   "metadata": {
    "slideshow": {
     "slide_type": "slide"
    }
   },
   "source": [
    "## Clustering Algorithms\n",
    "\n",
    "Unsupervised algorithms that use the inherent structures in the data to best organize it into groups of maximum homogeneity.\n",
    "\n",
    "- k-Means\n",
    "- k-Medians\n",
    "- Hierarchical Clustering\n",
    "- DBSCAN and HDBSCAN\n",
    "- ...\n",
    "\n",
    "<img src=\"images/algorithms/Clustering-Algorithms.png\" style=\"display: block;margin-left: auto;margin-right: auto;height: 200px\"/>"
   ]
  },
  {
   "cell_type": "markdown",
   "metadata": {
    "slideshow": {
     "slide_type": "subslide"
    }
   },
   "source": [
    "## Clustering Algorithms\n",
    "\n",
    "### k-Means\n",
    "\n",
    "**k** random cluster centers are created and all data points are assigned to the nearest of these centers. Then new centers of these cluster clouds are calculated and data points are reassigned. The procedure is repeated until stable cluster centers are found. Quick and simple, yet often effective. Number of clusters **k** cannot be automatically determined though.\n",
    "\n",
    "<img src=\"images/algorithms/k-means.gif\" style=\"display: block;margin-left: auto;margin-right: auto;height: 350px\"/>\n",
    "\n",
    "*In Scikit-Learn:* [sklearn.cluster.KMeans](https://scikit-learn.org/stable/modules/generated/sklearn.cluster.KMeans.html)"
   ]
  },
  {
   "cell_type": "markdown",
   "metadata": {
    "slideshow": {
     "slide_type": "subslide"
    }
   },
   "source": [
    "## Clustering Algorithms\n",
    "\n",
    "### DBSCAN\n",
    "\n",
    "Stands for Density-Based Spatial Clustering of Applications with Noise. It groups together points that are close to each other based on a (Euclidean) distance measurement and a minimum number of points. Flexible and powerful. Though we need to specify how close points should be to each other to be considered a part of a cluster. Therefore most suitable for data which contains clusters of similar density.\n",
    "\n",
    "<img src=\"images/algorithms/dbscan.gif\" style=\"display: block;margin-left: auto;margin-right: auto;height: 350px\"/>\n",
    "\n",
    "*In Scikit-Learn:* [sklearn.cluster.DBSCAN](https://scikit-learn.org/stable/modules/generated/sklearn.cluster.DBSCAN.html)"
   ]
  },
  {
   "cell_type": "markdown",
   "metadata": {
    "slideshow": {
     "slide_type": "slide"
    }
   },
   "source": [
    "## More Algorithm Families...\n",
    "\n",
    "\n",
    "- **Deep Learning Algorithms**\n",
    "    - capture complex relationships in complex data (imgs, audio, text etc)\n",
    "    - one of the most promising and rapidly developing fields\n",
    "    - can be hard to train & require more domain knowledge\n",
    "\n",
    "    <br>\n",
    "- **Bayesian Algorithms**\n",
    "    - rely on Bayesian Statistics instead\n",
    "    - allow incorporation of prior knowledge\n",
    "    - Naive Bayes: simple yet popular classifier\n",
    "\n",
    "    <br>\n",
    "\n",
    "- **Anomaly detection algorithms**\n",
    "    - a broad family of algorithms focused on isolating (not) normal data\n",
    "    - Isolation Forest: one of the most powerful and popular approaches\n",
    "    <br>\n",
    "\n",
    "..."
   ]
  },
  {
   "cell_type": "markdown",
   "metadata": {
    "slideshow": {
     "slide_type": "subslide"
    }
   },
   "source": [
    "# Deep Learning Neural networks\n",
    "\n",
    "Demonstrated super-human performance on a number of tasks\n",
    "\n",
    "<img src=\"images/deeplearning.png\" style=\"display: block;margin-left: auto;margin-right: auto;height: 400px\"/>"
   ]
  },
  {
   "cell_type": "markdown",
   "metadata": {
    "slideshow": {
     "slide_type": "subslide"
    }
   },
   "source": [
    "## Can even perform data generation\n",
    "\n",
    "[This person does not exist](thispersondoesnotexist.com)\n",
    "\n",
    "[This cat does not exist](https://thiscatdoesnotexist.com/)\n",
    "\n",
    "[This AirBnB does not exist](https://thisrentaldoesnotexist.com/)"
   ]
  },
  {
   "attachments": {},
   "cell_type": "markdown",
   "metadata": {
    "slideshow": {
     "slide_type": "subslide"
    }
   },
   "source": [
    "## GANs\n",
    "\n",
    "<img src=\"images/gan.png\" style=\"display: block;margin-left: auto;margin-right: auto;height: 400px\"/>"
   ]
  },
  {
   "cell_type": "markdown",
   "metadata": {
    "slideshow": {
     "slide_type": "subslide"
    }
   },
   "source": [
    "# Reinforcement Learning\n",
    "\n",
    "Deep learning algorithms can be used to perform Reinforcement Learning"
   ]
  },
  {
   "cell_type": "code",
   "execution_count": 2,
   "metadata": {},
   "outputs": [
    {
     "data": {
      "image/jpeg": "[encoded data removed]",
      "text/html": [
       "\n",
       "        <iframe\n",
       "            width=\"600\"\n",
       "            height=\"450\"\n",
       "            src=\"https://www.youtube.com/embed/8tq1C8spV_g\"\n",
       "            frameborder=\"0\"\n",
       "            allowfullscreen\n",
       "        ></iframe>\n",
       "        "
      ],
      "text/plain": [
       "<IPython.lib.display.YouTubeVideo at 0x7fbaa04cfdf0>"
      ]
     },
     "execution_count": 2,
     "metadata": {},
     "output_type": "execute_result"
    }
   ],
   "source": [
    "from IPython.display import YouTubeVideo\n",
    "\n",
    "YouTubeVideo('8tq1C8spV_g', width=600, height=450)"
   ]
  },
  {
   "cell_type": "markdown",
   "metadata": {
    "slideshow": {
     "slide_type": "slide"
    }
   },
   "source": [
    "## Factors to keep in mind\n",
    "\n",
    "1. **Training data size**. \n",
    "\n",
    "    If your data has relatively few observations and many features \n",
    "    \n",
    "    --> Linear regression, Naïve Bayes, or Linear SVM can do better than some other popular models\n",
    "    \n",
    "2. **Accuracy vs Interpretability**\n",
    "    \n",
    "    e.g. Decision Trees vs Neural Nets\n",
    "    \n",
    "3. **Speed & Training time**\n",
    "\n",
    "    More accuracy ~ More time\n",
    "    \n",
    "..."
   ]
  },
  {
   "cell_type": "markdown",
   "metadata": {
    "slideshow": {
     "slide_type": "subslide"
    }
   },
   "source": [
    "<img src=\"images/interpretable.png\" style=\"display: block;margin-left: auto;margin-right: auto;height: 600px\"/>"
   ]
  },
  {
   "cell_type": "markdown",
   "metadata": {
    "slideshow": {
     "slide_type": "subslide"
    }
   },
   "source": [
    "\n",
    "<img src=\"images/algorithms/ml-cheet-sheet.png\" style=\"display: block;margin-left: auto;margin-right: auto;height: 900px\"/>\n",
    "\n"
   ]
  },
  {
   "cell_type": "code",
   "execution_count": null,
   "metadata": {},
   "outputs": [],
   "source": []
  }
 ],
 "metadata": {
  "celltoolbar": "Slideshow",
  "kernelspec": {
   "display_name": "Python 3",
   "language": "python",
   "name": "python3"
  },
  "language_info": {
   "codemirror_mode": {
    "name": "ipython",
    "version": 3
   },
   "file_extension": ".py",
   "mimetype": "text/x-python",
   "name": "python",
   "nbconvert_exporter": "python",
   "pygments_lexer": "ipython3",
   "version": "3.8.3"
  }
 },
 "nbformat": 4,
 "nbformat_minor": 4
}
