{
 "cells": [
  {
   "cell_type": "code",
   "execution_count": null,
   "metadata": {},
   "outputs": [],
   "source": [
    "import pandas as pd\n",
    "import numpy as np\n",
    "import matplotlib.pyplot as plt\n",
    "import seaborn as sns\n",
    "%matplotlib inline"
   ]
  },
  {
   "cell_type": "markdown",
   "metadata": {},
   "source": [
    "# Sklearn for Linear Regression\n",
    "\n",
    "In this notebook you will use Scikit-Learn to perform Linear Regression on an E-commerce Customer Dataset.\n",
    "\n",
    "## Goal\n",
    "\n",
    "The goal is to predict the ‘Yearly Amount Spent’ by a customer on an E-commerce platform, so that this information can be used to give the particular customer personalized offers or Loyalty membership etc.\n",
    "\n",
    "The notebook will help you with the initial data exploration, but you will perform the actual modelling!"
   ]
  },
  {
   "cell_type": "markdown",
   "metadata": {},
   "source": [
    "## Linear regression reminder\n",
    "\n",
    "*Singular explanory variable ($x$):* \n",
    " \n",
    "$$ y = \\mathbf{a} x + \\mathbf{b} $$\n",
    "\n",
    "*More than one explanatory variable ($x_1, x_2, ...$):*\n",
    "\n",
    "$$ y(\\mathbf{w}, \\mathbf{x}) = w_0 + w_1 x_1 (+ w_2 x_2 + ...)$$\n",
    "\n",
    "*A possible regression line*\n",
    "\n",
    "<img src=\"images/linear-regression.png\" style=\"display: block;margin-left: auto;margin-right: auto;height: 400px\"/>\n",
    "\n",
    "*Residuals can be computed to measure how good the regression line is*\n",
    "\n",
    "<img src=\"images/residual.png\" style=\"display: block;margin-left: auto;margin-right: auto;height: 400px\"/>"
   ]
  },
  {
   "cell_type": "markdown",
   "metadata": {},
   "source": [
    "## Loading in the data\n",
    "\n",
    "This is the dataset we will be performing linear regression on.\n",
    "\n",
    "We will try to predict‘Yearly Amount Spent’, so this will be our target vector *or* dependent variable."
   ]
  },
  {
   "cell_type": "code",
   "execution_count": null,
   "metadata": {
    "scrolled": true
   },
   "outputs": [],
   "source": [
    "customers = (\n",
    "    pd.read_csv('data/Ecomm-Customers.csv')\n",
    "    .rename(str.lower, axis='columns')\n",
    ")\n",
    "customers.head()"
   ]
  },
  {
   "cell_type": "markdown",
   "metadata": {},
   "source": [
    "### <mark>Exercise: Perform some preliminary analysis on the dataset.</mark>\n",
    "\n",
    "* How many customers are in this data?"
   ]
  },
  {
   "cell_type": "code",
   "execution_count": null,
   "metadata": {},
   "outputs": [],
   "source": []
  },
  {
   "cell_type": "markdown",
   "metadata": {},
   "source": [
    "* What datatypes does the dataset contain? Are there any missing values?"
   ]
  },
  {
   "cell_type": "code",
   "execution_count": null,
   "metadata": {},
   "outputs": [],
   "source": []
  },
  {
   "cell_type": "markdown",
   "metadata": {},
   "source": [
    "* How many predictive features are there? Will all the features be informative for the target?"
   ]
  },
  {
   "cell_type": "code",
   "execution_count": null,
   "metadata": {},
   "outputs": [],
   "source": []
  },
  {
   "cell_type": "markdown",
   "metadata": {},
   "source": [
    "* How many different values are there in the 'Yearly Amount Spent' column? Write a sentence to argue why this is a regression task, rather than classification task."
   ]
  },
  {
   "cell_type": "code",
   "execution_count": null,
   "metadata": {},
   "outputs": [],
   "source": []
  },
  {
   "cell_type": "markdown",
   "metadata": {},
   "source": [
    "## Correlation\n",
    "\n",
    "*Correlation - a statistic that measures the degree to which two variables move in relation to each other.*\n",
    "\n",
    "We will try to learn a model that predicts the yearly amount spent by a customer. However, what if we are able to predict that already from one variable alone? Or what if some variables are not relevant for predicting the yearly amount spent? \n",
    "\n",
    "Let's investigate whether any of the other variables correlate with the yearly amount spent."
   ]
  },
  {
   "cell_type": "markdown",
   "metadata": {},
   "source": [
    "### Visual inspection\n",
    "\n",
    "Using pairplot we can visualise the relationship between the numerical columns."
   ]
  },
  {
   "cell_type": "code",
   "execution_count": null,
   "metadata": {},
   "outputs": [],
   "source": [
    "sns.pairplot(customers)"
   ]
  },
  {
   "cell_type": "markdown",
   "metadata": {},
   "source": [
    "Feom the plots, ‘Length of Membership’ and ‘Time in App’ appear to be the varibles that have the most correlation with the dependent variable."
   ]
  },
  {
   "cell_type": "markdown",
   "metadata": {},
   "source": [
    "### Correlation matrix\n",
    "\n",
    "We can also compute the actual pairwise correlation of the columns."
   ]
  },
  {
   "cell_type": "code",
   "execution_count": null,
   "metadata": {},
   "outputs": [],
   "source": [
    "customers.corr()"
   ]
  },
  {
   "cell_type": "markdown",
   "metadata": {},
   "source": [
    "### Heatmap\n",
    "\n",
    "This correlation matrix can be visualised with a heatmap. "
   ]
  },
  {
   "cell_type": "code",
   "execution_count": null,
   "metadata": {
    "lines_to_next_cell": 2
   },
   "outputs": [],
   "source": [
    "sns.heatmap(customers.corr(), linewidth=0.5, annot=True);"
   ]
  },
  {
   "cell_type": "markdown",
   "metadata": {},
   "source": [
    "Along with the aforementioned variables, we can see that Avg. Session Length may also be informative for predicting the dependent variable."
   ]
  },
  {
   "cell_type": "markdown",
   "metadata": {},
   "source": [
    "## <mark>Exercise: Build a Linear Regression Model </mark>\n",
    "\n",
    "### <mark>1. Create Predictor variables 'X' and Target Variable 'y'</mark>\n",
    "\n",
    "For the time being, let’s form our feature matrix using the variables that appear to have a high degree of correlation with the dependent variable.\n",
    "\n",
    "Create the X and y variables. X should have the variables: `Time on App` and `Length of Membership`.\n"
   ]
  },
  {
   "cell_type": "code",
   "execution_count": null,
   "metadata": {},
   "outputs": [],
   "source": []
  },
  {
   "cell_type": "markdown",
   "metadata": {},
   "source": [
    "### <mark>2. Split the data into a training set and a testing set.</mark>\n",
    "\n",
    "We will train our model on the training set and then use the test set to evaluate the model.\n",
    "\n",
    "Reserve 30% of the data for testing and a random seed of 100."
   ]
  },
  {
   "cell_type": "code",
   "execution_count": null,
   "metadata": {},
   "outputs": [],
   "source": []
  },
  {
   "cell_type": "markdown",
   "metadata": {},
   "source": [
    "### <mark> 3. Import the model</mark>\n",
    "\n",
    "Look up how to import a simple [linear regression](https://scikit-learn.org/stable/modules/generated/sklearn.linear_model.LinearRegression.html)\n",
    "\n",
    "Import the model and then instantiate it."
   ]
  },
  {
   "cell_type": "code",
   "execution_count": null,
   "metadata": {},
   "outputs": [],
   "source": []
  },
  {
   "cell_type": "code",
   "execution_count": null,
   "metadata": {},
   "outputs": [],
   "source": []
  },
  {
   "cell_type": "markdown",
   "metadata": {},
   "source": [
    "### <mark>4. Train the model</mark>\n",
    "\n",
    "Fit the model to the train set."
   ]
  },
  {
   "cell_type": "code",
   "execution_count": null,
   "metadata": {},
   "outputs": [],
   "source": []
  },
  {
   "cell_type": "markdown",
   "metadata": {},
   "source": [
    "---\n",
    "\n",
    "# Intercept and Coefficients\n",
    "\n",
    "## 4. Investigate the model's intercept and coefficients.\n",
    "\n",
    "What are they?\n",
    "\n",
    "```python\n",
    "# Print the intercept\n",
    "print(\"Intercept\", model.intercept_)\n",
    "\n",
    "# Print the coefficients\n",
    "coeff_df = pd.DataFrame(model.coef_, X.columns, columns=['Coefficient'])\n",
    "print(coeff_df)\n",
    "```\n",
    "\n",
    "*TAKE CARE: Make sure you replace `model` if you have instantiated your model with a different name!*"
   ]
  },
  {
   "cell_type": "code",
   "execution_count": null,
   "metadata": {},
   "outputs": [],
   "source": []
  },
  {
   "cell_type": "markdown",
   "metadata": {},
   "source": [
    "### Interpreting the model\n",
    "\n",
    "a) What does the intercept represent in this context?\n",
    "\n",
    "b) What do the coefficients represent?\n",
    "\n",
    "c) Are the coefficients comparable?"
   ]
  },
  {
   "cell_type": "code",
   "execution_count": null,
   "metadata": {},
   "outputs": [],
   "source": []
  },
  {
   "cell_type": "markdown",
   "metadata": {},
   "source": [
    "## 5. Model Predictions\n",
    "\n",
    "Use your model to make prediction on the test set.\n",
    "\n"
   ]
  },
  {
   "cell_type": "code",
   "execution_count": null,
   "metadata": {},
   "outputs": [],
   "source": []
  },
  {
   "cell_type": "code",
   "execution_count": null,
   "metadata": {},
   "outputs": [],
   "source": []
  },
  {
   "cell_type": "markdown",
   "metadata": {},
   "source": [
    "## 6. Evaluating Predictions\n",
    "\n",
    "We want to evaluate whether we have made good predictions or not.\n",
    "\n",
    "a) Why would accuracy not be a good metric here?"
   ]
  },
  {
   "cell_type": "raw",
   "metadata": {},
   "source": [
    "..."
   ]
  },
  {
   "cell_type": "markdown",
   "metadata": {},
   "source": [
    "### Visual inspection\n",
    "\n",
    "b) **Make a scatter plot** that plots the test set against your predictions.\n",
    "\n",
    "```python\n",
    "plt.scatter(y_test, y_pred)\n",
    "plt.xlabel(\"Test\")\n",
    "plt.ylabel(\"Predictions\")\n",
    "```\n",
    "\n",
    "c) If you're linear regression was really accurate what would you expect to see?\n",
    "How does yours compare?"
   ]
  },
  {
   "cell_type": "code",
   "execution_count": null,
   "metadata": {},
   "outputs": [],
   "source": []
  },
  {
   "cell_type": "markdown",
   "metadata": {},
   "source": [
    "### Regression Metrics\n",
    "\n",
    "Rather than trying to interpret our graph, we can also calculate some metrics.\n",
    "\n",
    "For example, we could calculate the average error of our regression (e.g. how wrong we were on average). The model that gives you the smallest average error would be the best.\n",
    "\n",
    "It is common to report one of the following: \n",
    "\n",
    "Mean Absolute Error (MAE), Mean Squared Error (MSE), Root Mean Squared Error (RMSE)\n",
    "\n",
    "d) Why would it not be ok to just calculate Mean Error?"
   ]
  },
  {
   "cell_type": "raw",
   "metadata": {},
   "source": [
    "..."
   ]
  },
  {
   "cell_type": "markdown",
   "metadata": {},
   "source": [
    "Import metrics from sklearn and then calulate the following:\n",
    "\n",
    "e) Mean Absolute Error (MAE), Mean Squared Error (MSE), Root Mean Squared Error (RMSE)\n",
    "\n",
    "You can find these in sklearn.metrics: \n",
    "- mean_absolute_error\n",
    "- mean_squared_error"
   ]
  },
  {
   "cell_type": "code",
   "execution_count": null,
   "metadata": {},
   "outputs": [],
   "source": []
  },
  {
   "cell_type": "markdown",
   "metadata": {},
   "source": [
    "f) What is the difference between the metrics, what will MSE/RMSE be more sensitive to than MAE"
   ]
  },
  {
   "cell_type": "raw",
   "metadata": {},
   "source": [
    "..."
   ]
  },
  {
   "cell_type": "markdown",
   "metadata": {},
   "source": [
    "## 7. Overfitting\n",
    "\n",
    "By evaluating predictions on the data we trained on we can check for overfitting/underfitting.\n",
    "\n",
    "a) Make predictions on the train set and compute the same metrics as before (MAE, MSE & RMSE).\n",
    "\n",
    "b) What would you expect to see if we were overfitting."
   ]
  },
  {
   "cell_type": "code",
   "execution_count": null,
   "metadata": {},
   "outputs": [],
   "source": [
    "train_pred = lr.predict(X_train)"
   ]
  },
  {
   "cell_type": "code",
   "execution_count": null,
   "metadata": {},
   "outputs": [],
   "source": [
    "print('MAE:', metrics.mean_absolute_error(y_train, train_pred))\n",
    "print('MSE:', metrics.mean_squared_error(y_train, train_pred))\n",
    "print('RMSE:', np.sqrt(metrics.mean_squared_error(y_train, train_pred)))"
   ]
  },
  {
   "cell_type": "markdown",
   "metadata": {},
   "source": [
    "## <mark> Exercise: Incorporating more features </mark>\n",
    "\n",
    "Remember we had left out a variable which had lesser degree of positive correlation? Add that variable (Avg. Session Length) and see if it improves the model."
   ]
  },
  {
   "cell_type": "code",
   "execution_count": null,
   "metadata": {},
   "outputs": [],
   "source": []
  },
  {
   "cell_type": "markdown",
   "metadata": {},
   "source": [
    "Compare performance using the same metrics as before (MAE, MSE & RMSE) when this extra information is included in the feature matrix"
   ]
  },
  {
   "cell_type": "code",
   "execution_count": null,
   "metadata": {},
   "outputs": [],
   "source": []
  },
  {
   "cell_type": "code",
   "execution_count": null,
   "metadata": {},
   "outputs": [],
   "source": []
  },
  {
   "cell_type": "markdown",
   "metadata": {},
   "source": [
    "# Conclusion\n",
    "\n",
    "We've now seen regression models and seen how the steps for building a regression model follow that of what we saw in the classification examples. We also saw the need for different metrics."
   ]
  }
 ],
 "metadata": {
  "jupytext": {
   "encoding": "# -*- coding: utf-8 -*-",
   "text_representation": {
    "extension": ".py",
    "format_name": "percent",
    "format_version": "1.3",
    "jupytext_version": "1.7.1"
   }
  },
  "kernelspec": {
   "display_name": "Python 3",
   "language": "python",
   "name": "python3"
  },
  "language_info": {
   "codemirror_mode": {
    "name": "ipython",
    "version": 3
   },
   "file_extension": ".py",
   "mimetype": "text/x-python",
   "name": "python",
   "nbconvert_exporter": "python",
   "pygments_lexer": "ipython3",
   "version": "3.8.5"
  }
 },
 "nbformat": 4,
 "nbformat_minor": 2
}
