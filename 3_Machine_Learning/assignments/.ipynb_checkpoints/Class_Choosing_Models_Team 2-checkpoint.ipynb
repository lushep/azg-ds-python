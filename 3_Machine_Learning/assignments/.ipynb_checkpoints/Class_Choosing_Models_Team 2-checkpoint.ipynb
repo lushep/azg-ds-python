{
 "cells": [
  {
   "cell_type": "markdown",
   "metadata": {},
   "source": [
    "# Situation 2: \n",
    "## Football Performance\n",
    "\n",
    "A football team have hired you to determine how well players will perform under different training regimes.\n",
    "\n",
    "The new season has just begun and you want to know what a good training regime will be for the year for the athletes. You have history of data including all the different information from previous years, how well players have performer, their ages, some medical history and what kind of sport exercises they have done (yoga, running etc.).\n",
    "\n",
    "The football team want to know exactly what it is that is affecting their performance so that they can alter their on-going training programs and potentially create personalised programs for each player.\n",
    "\n",
    "<img src=\"../images/football.jpeg\" style=\"display: block;margin-left: auto;margin-right: auto;height: 200px\"/>"
   ]
  },
  {
   "cell_type": "markdown",
   "metadata": {},
   "source": [
    "## Notes"
   ]
  },
  {
   "cell_type": "markdown",
   "metadata": {},
   "source": [
    "1. What type of algorithm are you going to work with on this problem?"
   ]
  },
  {
   "cell_type": "raw",
   "metadata": {},
   "source": []
  },
  {
   "cell_type": "markdown",
   "metadata": {},
   "source": [
    "2. Why that algorithm?"
   ]
  },
  {
   "cell_type": "raw",
   "metadata": {},
   "source": []
  },
  {
   "cell_type": "markdown",
   "metadata": {},
   "source": [
    "3. What features do you think need to be considered to build this model? (don't worry about what is and isn't available)"
   ]
  },
  {
   "cell_type": "raw",
   "metadata": {},
   "source": []
  },
  {
   "cell_type": "markdown",
   "metadata": {},
   "source": [
    "4. How would you determine the performance of your model? If you know some metrics list them, if not what do you think would be important to consider?"
   ]
  },
  {
   "cell_type": "raw",
   "metadata": {},
   "source": []
  }
 ],
 "metadata": {
  "kernelspec": {
   "display_name": "Python 3",
   "language": "python",
   "name": "python3"
  },
  "language_info": {
   "codemirror_mode": {
    "name": "ipython",
    "version": 3
   },
   "file_extension": ".py",
   "mimetype": "text/x-python",
   "name": "python",
   "nbconvert_exporter": "python",
   "pygments_lexer": "ipython3",
   "version": "3.8.5"
  }
 },
 "nbformat": 4,
 "nbformat_minor": 4
}
