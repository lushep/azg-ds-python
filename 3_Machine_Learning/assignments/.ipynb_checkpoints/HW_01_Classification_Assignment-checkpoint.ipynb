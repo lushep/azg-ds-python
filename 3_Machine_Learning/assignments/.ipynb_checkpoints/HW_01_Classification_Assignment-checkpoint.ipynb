{
 "cells": [
  {
   "cell_type": "code",
   "execution_count": null,
   "metadata": {},
   "outputs": [],
   "source": [
    "import pandas as pd\n",
    "import numpy as np\n",
    "import matplotlib.pyplot as plt\n",
    "import seaborn as sns\n",
    "%matplotlib inline"
   ]
  },
  {
   "cell_type": "markdown",
   "metadata": {},
   "source": [
    "# Sklearn for Logistic Regression\n",
    "\n",
    "The field of healthcare is being revolutionised by Machine Learning. For certain diseases, models can be trained using data from previous patients to identify whether a new patient has the disease or not. Often the performance of these diagnostic models exceeds the human experts.\n",
    "\n",
    "\n",
    "<img src=\"../images/assignments/doctor.png\" style=\"display: block;margin-left: auto;margin-right: auto;height: 400px\"/>\n",
    "\n",
    "In this notebook you will use Scikit-Learn to perform Logistic Regression on a medical dataset.\n",
    "\n",
    "We will use one of the datasets built into Scikit-Learn for practise purposes: [The Breast cancer wisconsin (diagnostic) dataset](https://scikit-learn.org/stable/datasets/toy_dataset.html#breast-cancer-wisconsin-diagnostic-dataset)."
   ]
  },
  {
   "cell_type": "code",
   "execution_count": null,
   "metadata": {},
   "outputs": [],
   "source": [
    "from sklearn import datasets\n",
    "medical_data = datasets.load_breast_cancer()"
   ]
  },
  {
   "cell_type": "markdown",
   "metadata": {},
   "source": [
    "A dataset from scikit-learn is a dictionary-like object that holds all the data and some metadata about the data. Let's investigate what information is available: "
   ]
  },
  {
   "cell_type": "code",
   "execution_count": null,
   "metadata": {},
   "outputs": [],
   "source": [
    "medical_data.keys()"
   ]
  },
  {
   "cell_type": "markdown",
   "metadata": {},
   "source": [
    "For instance, this dataset also contains the DESCR key, which we can use to access a description of the dataset."
   ]
  },
  {
   "cell_type": "code",
   "execution_count": null,
   "metadata": {},
   "outputs": [],
   "source": [
    "print(medical_data['DESCR'])"
   ]
  },
  {
   "cell_type": "markdown",
   "metadata": {},
   "source": [
    "We can inspect the data as a Pandas DataFrame."
   ]
  },
  {
   "cell_type": "code",
   "execution_count": null,
   "metadata": {},
   "outputs": [],
   "source": [
    "medical_df = pd.DataFrame(medical_data.data, columns=medical_data.feature_names)\n",
    "medical_df['class'] = medical_data.target\n",
    "medical_df.head()"
   ]
  },
  {
   "cell_type": "markdown",
   "metadata": {},
   "source": [
    "### Exercise: \n",
    "\n",
    "Perform some preliminary analysis on the dataset.\n",
    "\n",
    "* How many patients is there data for?\n",
    "* What datatypes does the dataset contain? Are there any missing values?\n",
    "* How many predictive features are there? Will all the features be informative for the target?\n",
    "* Which features do you think will be highly correlated. Investigate whether this is indeed the case.\n"
   ]
  },
  {
   "cell_type": "code",
   "execution_count": null,
   "metadata": {},
   "outputs": [],
   "source": []
  },
  {
   "cell_type": "code",
   "execution_count": null,
   "metadata": {},
   "outputs": [],
   "source": [
    "medical_df['class'].value_counts()"
   ]
  },
  {
   "cell_type": "markdown",
   "metadata": {},
   "source": [
    "### Exercise:\n",
    "\n",
    "For this dataset, the target vector indicates whether a patient's sample is malignant or benign.\n",
    "\n",
    "- What values does the column contain?\n",
    "- Considering the targets for this problem, would linear regression be a suitable modelling choice?\n",
    "\n",
    "<img src=\"../images/assignments/linear.png\" style=\"display: block;margin-left: auto;margin-right: auto;height: 400px\"/>"
   ]
  },
  {
   "cell_type": "code",
   "execution_count": null,
   "metadata": {},
   "outputs": [],
   "source": []
  },
  {
   "cell_type": "markdown",
   "metadata": {},
   "source": [
    "## Logistic regression\n",
    "\n",
    "Logistic regression is a common modelling choice for binary classification problems*.\n",
    "\n",
    "<img src=\"../images/assignments/logistic.png\" style=\"display: block;margin-left: auto;margin-right: auto;height: 400px\"/>\n",
    "\n",
    "**Outputs with more than two values can be modeled by multinomial logistic regression; when there are multiple ordinal categories, ordinal logistic regression can be used.*\n",
    "\n",
    "### Exercise: \n",
    "\n",
    "What makes the logistic \"s\" shape more suitable for binary classification compared to the \"line\" in linear regression?"
   ]
  },
  {
   "cell_type": "code",
   "execution_count": null,
   "metadata": {},
   "outputs": [],
   "source": []
  },
  {
   "cell_type": "markdown",
   "metadata": {},
   "source": [
    "### Derivation of logistic reggression formula\n",
    "\n",
    "In linear regression, we modelled the target $y$ as a linear function of the predictor variables $x_1, x_2, x_3,...$:\n",
    "\n",
    "$$ y = w_0 + w_1 x_1 (+ w_2 x_2 + ...)$$\n",
    "\n",
    "For logistic regression, we model $y$ as a probability value between 0 and 1. We assume a linear relationship between the predictor variables and the log-odds* (also called logit) of the event that $y=1$.\n",
    "\n",
    "$$ \\log \\frac {y}{1-y} = w_0 + w_1 x_1 (+ w_2 x_2 + ...)$$\n",
    "\n",
    "*In statistics, the logit function or the log-odds is the logarithm of the odds ${\\displaystyle {\\frac {p}{1-p}}}$ where $p$ is a probability. It is a type of function that creates a map of probability values from ${\\displaystyle (0,1)}$ to ${\\displaystyle (-\\infty ,+\\infty )}$.*\n",
    "\n",
    "Thus by alebraic manipulation, the probability $y$ is modelled by:\n",
    "\n",
    "$$ y = S(w_0 + w_1 x_1 (+ w_2 x_2 + ...))$$\n",
    "\n",
    "where $S$ is the sigmoid function, ${\\displaystyle S(x)={\\frac {1}{1+e^{-x}}}={\\frac {e^{x}}{e^{x}+1}}.}$\n",
    "\n",
    "### interpretability\n",
    "\n",
    "We achieve the logistic \"s\" shape by passing a linear regression model through a sigmoid function. This means the logistic regression maintains the interpretability of linear regression."
   ]
  },
  {
   "cell_type": "markdown",
   "metadata": {},
   "source": [
    "## Assignment\n",
    "\n",
    "Create Predictor variables 'X' and Target Variable 'y'"
   ]
  },
  {
   "cell_type": "code",
   "execution_count": null,
   "metadata": {},
   "outputs": [],
   "source": [
    "X = medical_data['data']\n",
    "y = medical_data['target']"
   ]
  },
  {
   "cell_type": "code",
   "execution_count": null,
   "metadata": {},
   "outputs": [],
   "source": [
    "X"
   ]
  },
  {
   "cell_type": "code",
   "execution_count": null,
   "metadata": {},
   "outputs": [],
   "source": [
    "y"
   ]
  },
  {
   "cell_type": "markdown",
   "metadata": {},
   "source": [
    "## 1. Split the data into a training set and a testing set.\n",
    "\n",
    "We will train our model on the training set and then use the test set to evaluate the model.\n",
    "\n",
    "Reserve 20% of the data for testing and a random seed of 0."
   ]
  },
  {
   "cell_type": "code",
   "execution_count": null,
   "metadata": {},
   "outputs": [],
   "source": []
  },
  {
   "cell_type": "markdown",
   "metadata": {},
   "source": [
    "## 2. Importing the model\n",
    "\n",
    "Look up how to import a simple [logistic regression](https://scikit-learn.org/stable/modules/linear_model.html)\n",
    "\n",
    "Import the model and then instantiate it."
   ]
  },
  {
   "cell_type": "code",
   "execution_count": null,
   "metadata": {},
   "outputs": [],
   "source": []
  },
  {
   "cell_type": "code",
   "execution_count": null,
   "metadata": {},
   "outputs": [],
   "source": []
  },
  {
   "cell_type": "markdown",
   "metadata": {},
   "source": [
    "## 3. Training the model\n",
    "\n",
    "Fit the model to the train set."
   ]
  },
  {
   "cell_type": "code",
   "execution_count": null,
   "metadata": {},
   "outputs": [],
   "source": []
  },
  {
   "cell_type": "markdown",
   "metadata": {},
   "source": [
    "The model may not converge in the deafult number of iterations (100). Update the `max_iter` parameter (using `.set_params`) such that the model coverges."
   ]
  },
  {
   "cell_type": "code",
   "execution_count": null,
   "metadata": {},
   "outputs": [],
   "source": []
  },
  {
   "cell_type": "markdown",
   "metadata": {},
   "source": [
    "## 4. Investigate the model's coefficients.\n",
    "\n",
    "To do this you can use the code below (You'll have to swap `lr` for the name of your model)"
   ]
  },
  {
   "cell_type": "code",
   "execution_count": null,
   "metadata": {},
   "outputs": [],
   "source": [
    "#Coefficients\n",
    "coeff_df = pd.DataFrame(lr.coef_.reshape(30,1),medical_data.feature_names,columns=['Coefficient'])\n",
    "print(coeff_df)"
   ]
  },
  {
   "cell_type": "markdown",
   "metadata": {},
   "source": [
    "### Interpreting the model\n",
    "\n",
    "a) What do the coefficients represent?\n",
    "\n",
    "b) Are the coefficients comparable?"
   ]
  },
  {
   "cell_type": "code",
   "execution_count": null,
   "metadata": {},
   "outputs": [],
   "source": []
  },
  {
   "cell_type": "markdown",
   "metadata": {},
   "source": [
    "## 5. Model Predictions\n",
    "\n",
    "Use your model to make prediction on the test set.\n",
    "\n"
   ]
  },
  {
   "cell_type": "code",
   "execution_count": null,
   "metadata": {},
   "outputs": [],
   "source": []
  },
  {
   "cell_type": "markdown",
   "metadata": {},
   "source": [
    "## 6. Evaluating Predictions\n",
    "\n",
    "a) print the accuracy of the model"
   ]
  },
  {
   "cell_type": "code",
   "execution_count": null,
   "metadata": {},
   "outputs": [],
   "source": []
  },
  {
   "cell_type": "markdown",
   "metadata": {},
   "source": [
    "b) print the classification report"
   ]
  },
  {
   "cell_type": "code",
   "execution_count": null,
   "metadata": {},
   "outputs": [],
   "source": []
  },
  {
   "cell_type": "markdown",
   "metadata": {},
   "source": [
    "c) Plot the non-normalized and normalized confusion matrix."
   ]
  },
  {
   "cell_type": "code",
   "execution_count": null,
   "metadata": {},
   "outputs": [],
   "source": [
    "from sklearn.metrics import plot_confusion_matrix\n",
    "\n",
    "labels = ['benign', 'malignant']\n",
    "\n"
   ]
  },
  {
   "cell_type": "markdown",
   "metadata": {},
   "source": [
    "## 7. Interpretating the confusion matrix\n",
    "\n",
    "Using the normalized confusion matrix, what is\n",
    "- The true positive rate\n",
    "- The true negative rate\n",
    "- The false positive rate\n",
    "- the false negative rate\n",
    "\n",
    "In the context of diagnostic models, what is the most important rate to improve?"
   ]
  },
  {
   "cell_type": "markdown",
   "metadata": {},
   "source": [
    "## Bonus\n",
    "\n",
    "See if you can improve the hyper-paramters of your model, such as the rate you identified in the previous question improves."
   ]
  },
  {
   "cell_type": "code",
   "execution_count": null,
   "metadata": {},
   "outputs": [],
   "source": []
  }
 ],
 "metadata": {
  "kernelspec": {
   "display_name": "Python 3",
   "language": "python",
   "name": "python3"
  },
  "language_info": {
   "codemirror_mode": {
    "name": "ipython",
    "version": 3
   },
   "file_extension": ".py",
   "mimetype": "text/x-python",
   "name": "python",
   "nbconvert_exporter": "python",
   "pygments_lexer": "ipython3",
   "version": "3.8.3"
  }
 },
 "nbformat": 4,
 "nbformat_minor": 2
}
