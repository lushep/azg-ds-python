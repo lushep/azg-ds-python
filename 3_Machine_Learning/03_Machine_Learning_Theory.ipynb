{
 "cells": [
  {
   "cell_type": "markdown",
   "metadata": {
    "slideshow": {
     "slide_type": "slide"
    }
   },
   "source": [
    "# Machine Learning: Classification\n",
    "\n",
    "We have just built many classification models, but what does classification actually mean and how do these models actually work?\n",
    "\n",
    "- What is classification?\n",
    "- A look into classification models\n",
    "    - Decision Tree\n",
    "    - Random Forest\n",
    "    - K-Nearest Neighbour\n",
    "    - Support vector machine\n",
    "    - Logistic Regression\n",
    "- The difference between Regression and Classification"
   ]
  },
  {
   "cell_type": "markdown",
   "metadata": {
    "slideshow": {
     "slide_type": "slide"
    }
   },
   "source": [
    "<img src='images/classification.jpeg' width=600px>"
   ]
  },
  {
   "cell_type": "markdown",
   "metadata": {
    "slideshow": {
     "slide_type": "subslide"
    }
   },
   "source": [
    "<img src='images/robot-class.png' width=400px align='right'>\n",
    "## What is classification?\n",
    "\n",
    "***Classification is one of the most important aspects of supervised learning.***\n",
    "\n",
    "Predicting a label and regression is about predicting a quantity.\n",
    "\n",
    "Approximates a mapping function (f) from input variables (X) to discrete output variables (y).\n",
    "\n",
    "The output variables are often called labels or categories. The mapping function predicts the class or category for a given observation.\n",
    "\n",
    "\n",
    "Can you think of any examples of a classification problem?"
   ]
  },
  {
   "cell_type": "markdown",
   "metadata": {
    "slideshow": {
     "slide_type": "subslide"
    }
   },
   "source": [
    "## Examples of Classification Problems\n",
    "<img src=images/types-class.png>"
   ]
  },
  {
   "cell_type": "markdown",
   "metadata": {
    "slideshow": {
     "slide_type": "slide"
    }
   },
   "source": [
    "---\n",
    "\n",
    "## Classification models"
   ]
  },
  {
   "cell_type": "markdown",
   "metadata": {
    "slideshow": {
     "slide_type": "subslide"
    }
   },
   "source": [
    "### Decision Tree\n",
    "Rule-based learning methods that usually use information gain criteria to split the dataset at a series of decisions, made at nodes. At the very end of the branches are leaf nodes that represent a class or regression outcome from the tree unless tree depth is restricted. When trained, result in readable decision diagrams.\n",
    "\n",
    "<img src=\"images/Decision-Tree-Algorithms.png\" style=\"display: block;margin-left: auto;margin-right: auto;height: 200px\"/>"
   ]
  },
  {
   "cell_type": "markdown",
   "metadata": {
    "slideshow": {
     "slide_type": "subslide"
    }
   },
   "source": [
    "### Random Forest\n",
    "\n",
    "Random Forests are an ensemble learning method that is for performing classification, regression as well as other tasks through the construction of decision trees and providing the output as a class which is the mode or mean of the underlying individual trees.\n",
    "\n",
    "![](images/randomforest.jpeg)"
   ]
  },
  {
   "cell_type": "markdown",
   "metadata": {
    "slideshow": {
     "slide_type": "subslide"
    }
   },
   "source": [
    "### Support Vector Machine\n",
    "\n",
    "SVMs are powerful classifiers that are used for classifying the binary dataset into two classes with the help of hyperplanes.\n",
    "\n",
    "![](images/svm.png)"
   ]
  },
  {
   "cell_type": "markdown",
   "metadata": {
    "slideshow": {
     "slide_type": "subslide"
    }
   },
   "source": [
    "## K-Nearest Neighbour\n",
    "\n",
    "The KNN algorithm assumes that similar things exist in close proximity. In other words, similar things are near to each other. For a new data point the model will look at the K-Nearest points and use that to classify the new data point.\n",
    "\n",
    "<font color='blue'>$\\text{Birds of a feather flock together}$</font>\n",
    "\n",
    "![](images/knn.png)"
   ]
  },
  {
   "cell_type": "markdown",
   "metadata": {
    "slideshow": {
     "slide_type": "subslide"
    }
   },
   "source": [
    "### Logistic Regression\n",
    "\n",
    "It makes use of a bell-shaped S curve that is generated with the help of logit function to categorize the data into their respective classes.\n",
    "\n",
    "***We will talk more about Logistic Regression when we've talked about Linear Regression!***\n",
    "\n",
    "![](images/logisticregression.png)"
   ]
  },
  {
   "cell_type": "markdown",
   "metadata": {
    "slideshow": {
     "slide_type": "subslide"
    }
   },
   "source": [
    "### Gradient Boosting\n",
    "\n",
    "Gradient Boosting is an ensemble learning method that is a collection of several weak decision trees which results in a powerful classifier.\n",
    "\n",
    "<img src='images/gradient-boosting.png'>"
   ]
  },
  {
   "cell_type": "markdown",
   "metadata": {
    "slideshow": {
     "slide_type": "subslide"
    }
   },
   "source": [
    "### Artificial Neural Networks\n",
    "Artificial Neural Networks are modeled after the human brain and they learn from the data over time. They form a much larger portion of machine learning called Deep Learning.\n",
    "\n",
    "![half center](https://miro.medium.com/max/1386/1*ZX05x1xYgaVoa4Vn2kKS9g.png)"
   ]
  },
  {
   "cell_type": "markdown",
   "metadata": {
    "slideshow": {
     "slide_type": "slide"
    }
   },
   "source": [
    "---\n",
    "\n",
    "## The difference between Regression and Classification"
   ]
  },
  {
   "cell_type": "markdown",
   "metadata": {
    "slideshow": {
     "slide_type": "fragment"
    }
   },
   "source": [
    "What kind of problem can you think of where a classification algorithm wouldn't work?"
   ]
  },
  {
   "cell_type": "markdown",
   "metadata": {
    "slideshow": {
     "slide_type": "subslide"
    }
   },
   "source": [
    "## Examples of Regression Problems\n",
    "\n",
    "![](images/type-regress.png)"
   ]
  },
  {
   "cell_type": "markdown",
   "metadata": {
    "slideshow": {
     "slide_type": "subslide"
    }
   },
   "source": [
    "## Regression vs Classification\n",
    "\n",
    "We've seen models so far that require us to classify observations (type of hawk/penguin).\n",
    "\n",
    "We're now going to look at when our target variable is continuous. \n",
    "\n",
    "![](images/linear.gif)"
   ]
  }
 ],
 "metadata": {
  "celltoolbar": "Slideshow",
  "kernelspec": {
   "display_name": "Python 3",
   "language": "python",
   "name": "python3"
  },
  "language_info": {
   "codemirror_mode": {
    "name": "ipython",
    "version": 3
   },
   "file_extension": ".py",
   "mimetype": "text/x-python",
   "name": "python",
   "nbconvert_exporter": "python",
   "pygments_lexer": "ipython3",
   "version": "3.8.5"
  }
 },
 "nbformat": 4,
 "nbformat_minor": 4
}
