{
 "cells": [
  {
   "cell_type": "code",
   "execution_count": 1,
   "metadata": {},
   "outputs": [],
   "source": [
    "import pandas as pd\n",
    "import seaborn as sns\n",
    "import matplotlib.pyplot as plt\n",
    "import numpy as np"
   ]
  },
  {
   "cell_type": "markdown",
   "metadata": {},
   "source": [
    "# Hawks: a machine learning example\n",
    "\n",
    "![]() \n",
    "\n",
    "## About the data\n",
    "The data was collected and made available by Professor Bob Black at Cornell College. The dataset provides a great dataset for data exploration, visualisation and - in this case - a demonstration of the scikit-learn API. \n",
    "\n",
    "|Field|Description|\n",
    "|:---|:---|\n",
    "|bandnumber|The ID band code|\n",
    "|species|The species of the hawk: Red-tailed, Sharp-shinned or Coopers|\n",
    "|sex|The gender of the hawk - Female (F) or Male (M)|\n",
    "|wing|\tLength (in mm) of primary wing feather from tip to wrist it attaches to|\n",
    "|weight|Body weight (in gm)|\n",
    "|culmen|Length (in mm) of the upper bill|\n",
    "|hallux|\tLength (in mm) of the killing talon|\n",
    "|tail|Measurement (in mm) related to the length of the tail (invented at the MacBride Raptor Center)|\n",
    "|maturity| Maturity of the hawk - Adult or Infant|\n",
    "\n",
    "## Scikit-Learn\n",
    "Scikit-learn is *the* library for machine learning in Python. You could consider it the swiss army knife of machine learning. A wide variety of machine learning models are implemented by the community and core developers, with a consistent API. Once you master this API, it's easy to apply a wide variety of machine learning algorithms, and you have a handy tool to help you out with preprocessing, model evaluation and model selection. \n",
    "\n",
    "#### Why scikit-learn?\n",
    "- Many available machine learning models\n",
    "- Models are implemented by an expert team and checked by a large community\n",
    "- Covers most machine-learning tasks\n",
    "- Commitment to documentation, consistency and usability\n",
    "- Designed to work with other key Python libraries (NumPy, Pandas etc)\n",
    "\n",
    "\n",
    "## Hawk classification\n",
    "In this notebook, we will demonstrate classification of hawks species based on bodily measurements with the scikit-learn API. We will cover the following aspects:\n",
    "\n",
    "1. Loading the data\n",
    "2. Preparing the data for sklearn\n",
    "3. Model creation & evaluation\n",
    "4. Data pre-processing\n",
    "5. Pipelines"
   ]
  },
  {
   "cell_type": "markdown",
   "metadata": {},
   "source": [
    "## 1. Loading our data\n",
    "\n",
    "There are many places your data can originate from. Maybe you want to load it from a Excel file you have stored locally on your system, maybe you have a .csv file stored online somewhere. Scikit-learn comes with various standard datasets that can be used for practice, that can be loaded if you have scikit-learn installed on your system. \n",
    "\n",
    "However, the dataset we will be using today (the R hawks dataset) does not come from scikit-learn, but from a package in R. Luckily for us we can access that data [from here](https://vincentarelbundock.github.io/Rdatasets/csv/Stat2Data/Hawks.csv)\n",
    "\n",
    "The data has been downloaded stored here: `'data/hawks.csv'`."
   ]
  },
  {
   "cell_type": "code",
   "execution_count": 2,
   "metadata": {},
   "outputs": [
    {
     "data": {
      "text/html": [
       "<div>\n",
       "<style scoped>\n",
       "    .dataframe tbody tr th:only-of-type {\n",
       "        vertical-align: middle;\n",
       "    }\n",
       "\n",
       "    .dataframe tbody tr th {\n",
       "        vertical-align: top;\n",
       "    }\n",
       "\n",
       "    .dataframe thead th {\n",
       "        text-align: right;\n",
       "    }\n",
       "</style>\n",
       "<table border=\"1\" class=\"dataframe\">\n",
       "  <thead>\n",
       "    <tr style=\"text-align: right;\">\n",
       "      <th></th>\n",
       "      <th>bandnumber</th>\n",
       "      <th>species</th>\n",
       "      <th>sex</th>\n",
       "      <th>wing</th>\n",
       "      <th>weight</th>\n",
       "      <th>hallux</th>\n",
       "      <th>tail</th>\n",
       "      <th>maturity</th>\n",
       "    </tr>\n",
       "  </thead>\n",
       "  <tbody>\n",
       "    <tr>\n",
       "      <th>0</th>\n",
       "      <td>1142-09240</td>\n",
       "      <td>Sharp-shinned</td>\n",
       "      <td>M</td>\n",
       "      <td>166.0</td>\n",
       "      <td>120.0</td>\n",
       "      <td>11.7</td>\n",
       "      <td>133</td>\n",
       "      <td>NaN</td>\n",
       "    </tr>\n",
       "    <tr>\n",
       "      <th>1</th>\n",
       "      <td>1142-09241</td>\n",
       "      <td>Sharp-shinned</td>\n",
       "      <td>M</td>\n",
       "      <td>170.0</td>\n",
       "      <td>110.0</td>\n",
       "      <td>121.0</td>\n",
       "      <td>135</td>\n",
       "      <td>NaN</td>\n",
       "    </tr>\n",
       "    <tr>\n",
       "      <th>2</th>\n",
       "      <td>1142-09242</td>\n",
       "      <td>Sharp-shinned</td>\n",
       "      <td>M</td>\n",
       "      <td>165.0</td>\n",
       "      <td>95.0</td>\n",
       "      <td>11.6</td>\n",
       "      <td>131</td>\n",
       "      <td>Infant</td>\n",
       "    </tr>\n",
       "    <tr>\n",
       "      <th>3</th>\n",
       "      <td>1142-18229</td>\n",
       "      <td>Sharp-shinned</td>\n",
       "      <td>M</td>\n",
       "      <td>161.0</td>\n",
       "      <td>95.0</td>\n",
       "      <td>11.3</td>\n",
       "      <td>135</td>\n",
       "      <td>Infant</td>\n",
       "    </tr>\n",
       "    <tr>\n",
       "      <th>4</th>\n",
       "      <td>1142-19209</td>\n",
       "      <td>Sharp-shinned</td>\n",
       "      <td>M</td>\n",
       "      <td>165.0</td>\n",
       "      <td>96.0</td>\n",
       "      <td>11.4</td>\n",
       "      <td>125</td>\n",
       "      <td>NaN</td>\n",
       "    </tr>\n",
       "  </tbody>\n",
       "</table>\n",
       "</div>"
      ],
      "text/plain": [
       "   bandnumber        species sex   wing  weight  hallux  tail maturity\n",
       "0  1142-09240  Sharp-shinned   M  166.0   120.0    11.7   133      NaN\n",
       "1  1142-09241  Sharp-shinned   M  170.0   110.0   121.0   135      NaN\n",
       "2  1142-09242  Sharp-shinned   M  165.0    95.0    11.6   131   Infant\n",
       "3  1142-18229  Sharp-shinned   M  161.0    95.0    11.3   135   Infant\n",
       "4  1142-19209  Sharp-shinned   M  165.0    96.0    11.4   125      NaN"
      ]
     },
     "execution_count": 2,
     "metadata": {},
     "output_type": "execute_result"
    }
   ],
   "source": [
    "hawks = pd.read_csv('../data/hawks.csv')\n",
    "hawks.head()"
   ]
  },
  {
   "cell_type": "markdown",
   "metadata": {},
   "source": [
    "## 2. Preparing the data for scikit-learn\n",
    "\n",
    "The first thing we might notice here is that there are some data point entries that have no value - the value simply says `NaN`. This means this information is missing. \n",
    "\n",
    "Unfortunately, that also means the information cannot be used as is to create a machine learning model with scikit-learn. We must find a way to deal with the missing values. \n",
    "\n",
    "There are multiple strategies for dealing with missing data. For example, you could replace a missing values with the mean of the column. E.g. if for a particular hawk the value for body mass is missing, you could replace the NaN with the mean recorded body mass of all hawk. \n",
    "\n",
    "Scikit-learn even provides us with a great interface to apply such transformations. For the moment, however, we simply choose to discard all the incomplete data points with pandas `.dropna()` functionality. "
   ]
  },
  {
   "cell_type": "code",
   "execution_count": 3,
   "metadata": {},
   "outputs": [
    {
     "data": {
      "text/html": [
       "<div>\n",
       "<style scoped>\n",
       "    .dataframe tbody tr th:only-of-type {\n",
       "        vertical-align: middle;\n",
       "    }\n",
       "\n",
       "    .dataframe tbody tr th {\n",
       "        vertical-align: top;\n",
       "    }\n",
       "\n",
       "    .dataframe thead th {\n",
       "        text-align: right;\n",
       "    }\n",
       "</style>\n",
       "<table border=\"1\" class=\"dataframe\">\n",
       "  <thead>\n",
       "    <tr style=\"text-align: right;\">\n",
       "      <th></th>\n",
       "      <th>bandnumber</th>\n",
       "      <th>species</th>\n",
       "      <th>sex</th>\n",
       "      <th>wing</th>\n",
       "      <th>weight</th>\n",
       "      <th>hallux</th>\n",
       "      <th>tail</th>\n",
       "      <th>maturity</th>\n",
       "    </tr>\n",
       "  </thead>\n",
       "  <tbody>\n",
       "    <tr>\n",
       "      <th>2</th>\n",
       "      <td>1142-09242</td>\n",
       "      <td>Sharp-shinned</td>\n",
       "      <td>M</td>\n",
       "      <td>165.0</td>\n",
       "      <td>95.0</td>\n",
       "      <td>11.6</td>\n",
       "      <td>131</td>\n",
       "      <td>Infant</td>\n",
       "    </tr>\n",
       "    <tr>\n",
       "      <th>3</th>\n",
       "      <td>1142-18229</td>\n",
       "      <td>Sharp-shinned</td>\n",
       "      <td>M</td>\n",
       "      <td>161.0</td>\n",
       "      <td>95.0</td>\n",
       "      <td>11.3</td>\n",
       "      <td>135</td>\n",
       "      <td>Infant</td>\n",
       "    </tr>\n",
       "    <tr>\n",
       "      <th>5</th>\n",
       "      <td>1142-19210</td>\n",
       "      <td>Sharp-shinned</td>\n",
       "      <td>M</td>\n",
       "      <td>163.0</td>\n",
       "      <td>100.0</td>\n",
       "      <td>11.6</td>\n",
       "      <td>128</td>\n",
       "      <td>Infant</td>\n",
       "    </tr>\n",
       "    <tr>\n",
       "      <th>6</th>\n",
       "      <td>1142-19211</td>\n",
       "      <td>Sharp-shinned</td>\n",
       "      <td>M</td>\n",
       "      <td>163.0</td>\n",
       "      <td>100.0</td>\n",
       "      <td>11.3</td>\n",
       "      <td>131</td>\n",
       "      <td>Infant</td>\n",
       "    </tr>\n",
       "    <tr>\n",
       "      <th>7</th>\n",
       "      <td>1142-19212</td>\n",
       "      <td>Sharp-shinned</td>\n",
       "      <td>F</td>\n",
       "      <td>165.0</td>\n",
       "      <td>95.0</td>\n",
       "      <td>11.2</td>\n",
       "      <td>136</td>\n",
       "      <td>Infant</td>\n",
       "    </tr>\n",
       "    <tr>\n",
       "      <th>...</th>\n",
       "      <td>...</td>\n",
       "      <td>...</td>\n",
       "      <td>...</td>\n",
       "      <td>...</td>\n",
       "      <td>...</td>\n",
       "      <td>...</td>\n",
       "      <td>...</td>\n",
       "      <td>...</td>\n",
       "    </tr>\n",
       "    <tr>\n",
       "      <th>898</th>\n",
       "      <td>877-76552</td>\n",
       "      <td>Red-tailed</td>\n",
       "      <td>M</td>\n",
       "      <td>380.0</td>\n",
       "      <td>760.0</td>\n",
       "      <td>26.1</td>\n",
       "      <td>212</td>\n",
       "      <td>Infant</td>\n",
       "    </tr>\n",
       "    <tr>\n",
       "      <th>900</th>\n",
       "      <td>8777-6382</td>\n",
       "      <td>Red-tailed</td>\n",
       "      <td>F</td>\n",
       "      <td>363.0</td>\n",
       "      <td>1015.0</td>\n",
       "      <td>30.1</td>\n",
       "      <td>242</td>\n",
       "      <td>Infant</td>\n",
       "    </tr>\n",
       "    <tr>\n",
       "      <th>901</th>\n",
       "      <td>9387-92182</td>\n",
       "      <td>Red-tailed</td>\n",
       "      <td>F</td>\n",
       "      <td>382.0</td>\n",
       "      <td>1080.0</td>\n",
       "      <td>31.0</td>\n",
       "      <td>214</td>\n",
       "      <td>Infant</td>\n",
       "    </tr>\n",
       "    <tr>\n",
       "      <th>902</th>\n",
       "      <td>972-04635</td>\n",
       "      <td>Sharp-shinned</td>\n",
       "      <td>M</td>\n",
       "      <td>165.0</td>\n",
       "      <td>98.0</td>\n",
       "      <td>11.4</td>\n",
       "      <td>138</td>\n",
       "      <td>Infant</td>\n",
       "    </tr>\n",
       "    <tr>\n",
       "      <th>903</th>\n",
       "      <td>972-09622</td>\n",
       "      <td>Sharp-shinned</td>\n",
       "      <td>M</td>\n",
       "      <td>179.0</td>\n",
       "      <td>105.0</td>\n",
       "      <td>11.3</td>\n",
       "      <td>131</td>\n",
       "      <td>Infant</td>\n",
       "    </tr>\n",
       "  </tbody>\n",
       "</table>\n",
       "<p>672 rows × 8 columns</p>\n",
       "</div>"
      ],
      "text/plain": [
       "     bandnumber        species sex   wing  weight  hallux  tail maturity\n",
       "2    1142-09242  Sharp-shinned   M  165.0    95.0    11.6   131   Infant\n",
       "3    1142-18229  Sharp-shinned   M  161.0    95.0    11.3   135   Infant\n",
       "5    1142-19210  Sharp-shinned   M  163.0   100.0    11.6   128   Infant\n",
       "6    1142-19211  Sharp-shinned   M  163.0   100.0    11.3   131   Infant\n",
       "7    1142-19212  Sharp-shinned   F  165.0    95.0    11.2   136   Infant\n",
       "..          ...            ...  ..    ...     ...     ...   ...      ...\n",
       "898   877-76552     Red-tailed   M  380.0   760.0    26.1   212   Infant\n",
       "900   8777-6382     Red-tailed   F  363.0  1015.0    30.1   242   Infant\n",
       "901  9387-92182     Red-tailed   F  382.0  1080.0    31.0   214   Infant\n",
       "902   972-04635  Sharp-shinned   M  165.0    98.0    11.4   138   Infant\n",
       "903   972-09622  Sharp-shinned   M  179.0   105.0    11.3   131   Infant\n",
       "\n",
       "[672 rows x 8 columns]"
      ]
     },
     "execution_count": 3,
     "metadata": {},
     "output_type": "execute_result"
    }
   ],
   "source": [
    "# Drop the rows with missing values\n",
    "hawks.dropna()"
   ]
  },
  {
   "cell_type": "markdown",
   "metadata": {},
   "source": [
    "Second of all, we notice that we have more information than just the numeric measurements of the hawks. \n",
    "\n",
    "We may incorporate this information later which will require some extra preprocessing. For now we choose to focus on our four discussed features first."
   ]
  },
  {
   "cell_type": "code",
   "execution_count": 4,
   "metadata": {},
   "outputs": [],
   "source": [
    "# Drop the unwanted columns\n",
    "hawks_prep = (\n",
    "    hawks\n",
    "    .dropna()\n",
    "    [['species','wing','weight','hallux','tail']]\n",
    ")"
   ]
  },
  {
   "cell_type": "markdown",
   "metadata": {},
   "source": [
    "For machine learning algorithms in Sklearn we must split our data into our feature matrix *X* and target vector *y*."
   ]
  },
  {
   "cell_type": "code",
   "execution_count": 5,
   "metadata": {},
   "outputs": [],
   "source": [
    "# Split the data in a matrix X and target vection y\n",
    "\n",
    "feature_columns = ['wing','weight','hallux','tail']\n",
    "\n",
    "X = hawks_prep[feature_columns]\n",
    "y = hawks_prep['species']"
   ]
  },
  {
   "cell_type": "code",
   "execution_count": 6,
   "metadata": {},
   "outputs": [
    {
     "data": {
      "text/html": [
       "<div>\n",
       "<style scoped>\n",
       "    .dataframe tbody tr th:only-of-type {\n",
       "        vertical-align: middle;\n",
       "    }\n",
       "\n",
       "    .dataframe tbody tr th {\n",
       "        vertical-align: top;\n",
       "    }\n",
       "\n",
       "    .dataframe thead th {\n",
       "        text-align: right;\n",
       "    }\n",
       "</style>\n",
       "<table border=\"1\" class=\"dataframe\">\n",
       "  <thead>\n",
       "    <tr style=\"text-align: right;\">\n",
       "      <th></th>\n",
       "      <th>wing</th>\n",
       "      <th>weight</th>\n",
       "      <th>hallux</th>\n",
       "      <th>tail</th>\n",
       "    </tr>\n",
       "  </thead>\n",
       "  <tbody>\n",
       "    <tr>\n",
       "      <th>2</th>\n",
       "      <td>165.0</td>\n",
       "      <td>95.0</td>\n",
       "      <td>11.6</td>\n",
       "      <td>131</td>\n",
       "    </tr>\n",
       "    <tr>\n",
       "      <th>3</th>\n",
       "      <td>161.0</td>\n",
       "      <td>95.0</td>\n",
       "      <td>11.3</td>\n",
       "      <td>135</td>\n",
       "    </tr>\n",
       "    <tr>\n",
       "      <th>5</th>\n",
       "      <td>163.0</td>\n",
       "      <td>100.0</td>\n",
       "      <td>11.6</td>\n",
       "      <td>128</td>\n",
       "    </tr>\n",
       "    <tr>\n",
       "      <th>6</th>\n",
       "      <td>163.0</td>\n",
       "      <td>100.0</td>\n",
       "      <td>11.3</td>\n",
       "      <td>131</td>\n",
       "    </tr>\n",
       "    <tr>\n",
       "      <th>7</th>\n",
       "      <td>165.0</td>\n",
       "      <td>95.0</td>\n",
       "      <td>11.2</td>\n",
       "      <td>136</td>\n",
       "    </tr>\n",
       "  </tbody>\n",
       "</table>\n",
       "</div>"
      ],
      "text/plain": [
       "    wing  weight  hallux  tail\n",
       "2  165.0    95.0    11.6   131\n",
       "3  161.0    95.0    11.3   135\n",
       "5  163.0   100.0    11.6   128\n",
       "6  163.0   100.0    11.3   131\n",
       "7  165.0    95.0    11.2   136"
      ]
     },
     "execution_count": 6,
     "metadata": {},
     "output_type": "execute_result"
    }
   ],
   "source": [
    "# Look at the first five rows of both X and y\n",
    "X.head()"
   ]
  },
  {
   "cell_type": "code",
   "execution_count": 7,
   "metadata": {},
   "outputs": [
    {
     "data": {
      "text/plain": [
       "2    Sharp-shinned\n",
       "3    Sharp-shinned\n",
       "5    Sharp-shinned\n",
       "6    Sharp-shinned\n",
       "7    Sharp-shinned\n",
       "Name: species, dtype: object"
      ]
     },
     "execution_count": 7,
     "metadata": {},
     "output_type": "execute_result"
    }
   ],
   "source": [
    "y.head()"
   ]
  },
  {
   "cell_type": "code",
   "execution_count": 8,
   "metadata": {},
   "outputs": [
    {
     "data": {
      "text/plain": [
       "array(['Sharp-shinned', 'Red-tailed', 'Coopers'], dtype=object)"
      ]
     },
     "execution_count": 8,
     "metadata": {},
     "output_type": "execute_result"
    }
   ],
   "source": [
    "# Check the unique values of y\n",
    "y.unique()"
   ]
  },
  {
   "cell_type": "markdown",
   "metadata": {},
   "source": [
    "### Splitting the dataset\n",
    "An important goal of machine learning is to create a model that does not only do well on the data that it has already seen, but will also perform well under new circumstances on data that is has not seen before. We call this _generalization_. \n",
    "\n",
    "Imagine this: Hawk A is a coopers hawk. Hawk A was presented during the training of our model; that means, Hawk A was one of the examples that the algorithm used to create an understanding of what a coopers hawk looks like and how you can distinguish it from a red-tailed or sharp-shinned. \n",
    "\n",
    "If we want to know how well our model does, asking the model to classify our Hawk A does not give us a lot of information. Even if the model is correct, do we know whether it has really truly learned the relationship between the features and the targets (ie. flipper length of >X is always species Y), or has it simply memorized the original data and does it recognise Hawk A from the training phase? \n",
    "\n",
    "That's why we want to separate our dataset into two parts:\n",
    "* The _training_ set: this is the data (features and targets) that will guide the learning process. \n",
    "* The _test_ set: this is the data (features and targets) that we will use to _evaluate_ how well our model has learned. \n",
    "\n",
    "Scikit-learn's `train_test_split` function allows us to split the data in a train- and testset. By default, the test set size is set to 25% and the data is shuffled. "
   ]
  },
  {
   "cell_type": "code",
   "execution_count": 9,
   "metadata": {},
   "outputs": [],
   "source": [
    "# Import and use the train_test_split function to \n",
    "# split the data into train and test datasets\n",
    "# The train dataset should be 30% of the original data\n",
    "\n",
    "from sklearn.model_selection import train_test_split\n",
    "\n",
    "X_train, X_test, y_train, y_test = train_test_split(X, y)"
   ]
  },
  {
   "cell_type": "code",
   "execution_count": 10,
   "metadata": {},
   "outputs": [
    {
     "name": "stdout",
     "output_type": "stream",
     "text": [
      "(504, 4) (168, 4) (504,) (168,)\n"
     ]
    }
   ],
   "source": [
    "# Check the shape of the train/test datasets\n",
    "print(X_train.shape, X_test.shape, y_train.shape, y_test.shape)"
   ]
  },
  {
   "cell_type": "markdown",
   "metadata": {},
   "source": [
    "## 3. Model creation and evaluation\n",
    "\n",
    "Now we're ready to create our machine learning model! \n",
    "\n",
    "Scikit-learn has a rich collection of algorithms readily available. Depending on the case you are working on, scikit-learn most likely has a model that will suit your purposes. \n",
    "\n",
    "#### Scikit-Learn API usage steps when training a model\n",
    "1. Choosing a model class and importing that model \n",
    "2. Choosing the model hyperparameters by instantiating this class with desired values.\n",
    "3. Training the model to the preprocessed train data by calling the `fit()` method of the model instance.\n",
    "4. Evaluating model's performance using available metrics"
   ]
  },
  {
   "cell_type": "code",
   "execution_count": 11,
   "metadata": {},
   "outputs": [],
   "source": [
    "# Step 1: import the chosen algorithm - DecisionTreeClassifier\n",
    "from sklearn.tree import DecisionTreeClassifier"
   ]
  },
  {
   "cell_type": "code",
   "execution_count": 12,
   "metadata": {},
   "outputs": [],
   "source": [
    "# Step 2: instantiate the model with the chosen hyperparameters\n",
    "model = DecisionTreeClassifier()"
   ]
  },
  {
   "cell_type": "code",
   "execution_count": 13,
   "metadata": {},
   "outputs": [
    {
     "data": {
      "text/plain": [
       "DecisionTreeClassifier()"
      ]
     },
     "execution_count": 13,
     "metadata": {},
     "output_type": "execute_result"
    }
   ],
   "source": [
    "# Step 3: train the model with the training data\n",
    "model.fit(X_train, y_train)"
   ]
  },
  {
   "cell_type": "markdown",
   "metadata": {},
   "source": [
    "We have now trained a model that can be used to make predictions on new data. Remember our test set? That's new, unseen data to the model that we can now create predictions on. "
   ]
  },
  {
   "cell_type": "code",
   "execution_count": 14,
   "metadata": {},
   "outputs": [],
   "source": [
    "# Create predictions for the y test set using the .predict() method\n",
    "y_pred = model.predict(X_test)"
   ]
  },
  {
   "cell_type": "markdown",
   "metadata": {},
   "source": [
    "Fortunately, we don't have to comparisons ourselves. Scikit-learn has made many implementations of possible metrics readily available, such as accuracy. \n",
    "\n",
    "$\\text{accuracy} = \\frac{correct}{total}$"
   ]
  },
  {
   "cell_type": "code",
   "execution_count": 15,
   "metadata": {},
   "outputs": [
    {
     "data": {
      "text/plain": [
       "0.9821428571428571"
      ]
     },
     "execution_count": 15,
     "metadata": {},
     "output_type": "execute_result"
    }
   ],
   "source": [
    "# import and find the accuracy_score for your model\n",
    "from sklearn.metrics import accuracy_score\n",
    "\n",
    "accuracy_score(y_test, y_pred)"
   ]
  },
  {
   "cell_type": "markdown",
   "metadata": {},
   "source": [
    "Accuracy is not the only metric you could be interested in. Alternatives are, for example, _precision_ and _recall_. \n",
    "\n",
    "* _Precision_ is the proportion of positive identifications that was actually correct. \n",
    "* _Recall_ is the proportion of actual positives that was identified correctly.\n",
    "* _F1 score_ is a function of precision and recall, that you use when you seek a balance between precision and recall. \n",
    "\n",
    "A simple example is this: \n",
    "Let's say you create a model that should classify email messages as spam or not spam. _Precision_ measures the percentage of emails flagged as spam that were correctly classified, while _recall_ measures the percentage of actual spam emails that were correctly classified. \n",
    "\n",
    "In some cases, precision is more important. For YouTube's recommendation system for example: you won't be able to show _ALL_ relevant videos, but it is important that the ones you do show _are_ relevant. \n",
    "\n",
    "However, in medical context, _recall_ is often more important. After all, if we mistakingly tell a person with cancer that they're healthy, that can have more severe consequences than the other way around. \n",
    "\n",
    "Precision, recall and F1 are also all available with scikit-learn."
   ]
  },
  {
   "cell_type": "code",
   "execution_count": 16,
   "metadata": {},
   "outputs": [
    {
     "name": "stdout",
     "output_type": "stream",
     "text": [
      "[[  5   1   0]\n",
      " [  0 118   1]\n",
      " [  1   0  42]]\n"
     ]
    }
   ],
   "source": [
    "# Display the confusion_matrix\n",
    "from sklearn.metrics import confusion_matrix\n",
    "\n",
    "print(confusion_matrix(y_test, y_pred))"
   ]
  },
  {
   "cell_type": "code",
   "execution_count": 17,
   "metadata": {},
   "outputs": [
    {
     "name": "stdout",
     "output_type": "stream",
     "text": [
      "               precision    recall  f1-score   support\n",
      "\n",
      "      Coopers       0.83      0.83      0.83         6\n",
      "   Red-tailed       0.99      0.99      0.99       119\n",
      "Sharp-shinned       0.98      0.98      0.98        43\n",
      "\n",
      "     accuracy                           0.98       168\n",
      "    macro avg       0.93      0.93      0.93       168\n",
      " weighted avg       0.98      0.98      0.98       168\n",
      "\n"
     ]
    }
   ],
   "source": [
    "# Check the precision and recall with  classification_report\n",
    "\n",
    "from sklearn.metrics import classification_report\n",
    "\n",
    "print(classification_report(y_test, y_pred))"
   ]
  },
  {
   "cell_type": "markdown",
   "metadata": {},
   "source": [
    "## Model Visualisation\n",
    "\n",
    "One of the advantages of decision trees over some of the other available models, is that decision trees are relatively easy to interpret. By visualising the tree-like structure of the decision tree, we can understand why the model classifies samples the way it does."
   ]
  },
  {
   "cell_type": "code",
   "execution_count": 18,
   "metadata": {},
   "outputs": [
    {
     "data": {
      "image/png": "[encoded data removed]",
      "text/plain": [
       "<Figure size 720x720 with 1 Axes>"
      ]
     },
     "metadata": {
      "needs_background": "light"
     },
     "output_type": "display_data"
    }
   ],
   "source": [
    "# Use plot_tree to visualise your model\n",
    "from sklearn.tree import plot_tree\n",
    "\n",
    "fig, ax = plt.subplots(figsize=(10,10))\n",
    "\n",
    "plot_tree(model, \n",
    "          ax=ax, \n",
    "          feature_names = feature_columns, \n",
    "          class_names = y.unique());"
   ]
  },
  {
   "cell_type": "markdown",
   "metadata": {},
   "source": [
    "## Exercise: Choosing a different model \n",
    "\n",
    "What happens when we're interested in a model other than the decision tree? \n",
    "\n",
    "That's actually really easy. You simply replace the chosen model with another and the rest of the pipeline can stay the same."
   ]
  },
  {
   "cell_type": "code",
   "execution_count": 19,
   "metadata": {},
   "outputs": [],
   "source": [
    "from sklearn.ensemble import RandomForestClassifier\n",
    "from sklearn.svm import SVC\n",
    "from sklearn.neighbors import KNeighborsClassifier"
   ]
  },
  {
   "cell_type": "markdown",
   "metadata": {},
   "source": [
    "Create, train and evaluate your own model for the `hawks` dataset. \n",
    "\n",
    "1. **Choose your model.** Try something other than a decision tree. Perhaps a [Random Forest](https://scikit-learn.org/stable/modules/generated/sklearn.ensemble.RandomForestClassifier.html), [Support Vector Machine](https://scikit-learn.org/stable/modules/generated/sklearn.svm.SVC.html) or [K-nearest neighbours](https://scikit-learn.org/stable/modules/generated/sklearn.neighbors.KNeighborsClassifier.html) classifier?\n",
    "2. **Instantiate your model.** Set some hyperparameters! Look at the documentation to see what parameters you can set.  \n",
    "3. **Fit your model** on the train features and labels.\n",
    "4. **Make predictions** on the test features.  \n",
    "5. **Evaluate your model.** Choose your own metric. Perhaps one of the [other metrics](https://scikit-learn.org/stable/modules/model_evaluation.html) implemented in Scikit-Learn? "
   ]
  },
  {
   "cell_type": "code",
   "execution_count": 20,
   "metadata": {},
   "outputs": [],
   "source": [
    "# model = DecisionTreeClassifier()\n",
    "model = RandomForestClassifier()\n",
    "# model = SVC()\n",
    "# model = KNeighborsClassifier()"
   ]
  },
  {
   "cell_type": "code",
   "execution_count": 21,
   "metadata": {},
   "outputs": [
    {
     "name": "stdout",
     "output_type": "stream",
     "text": [
      "Model accuracy: 0.9880952380952381\n",
      "               precision    recall  f1-score   support\n",
      "\n",
      "      Coopers       1.00      0.83      0.91         6\n",
      "   Red-tailed       0.99      0.99      0.99       119\n",
      "Sharp-shinned       0.98      1.00      0.99        43\n",
      "\n",
      "     accuracy                           0.99       168\n",
      "    macro avg       0.99      0.94      0.96       168\n",
      " weighted avg       0.99      0.99      0.99       168\n",
      "\n"
     ]
    }
   ],
   "source": [
    "model.fit(X_train, y_train)\n",
    "y_pred = model.predict(X_test)\n",
    "report = classification_report(y_test, y_pred)\n",
    "print(f'Model accuracy: {model.score(X_test, y_test)}')\n",
    "print(report)"
   ]
  },
  {
   "cell_type": "markdown",
   "metadata": {},
   "source": [
    "# Summary\n",
    "\n",
    "Scikit-learn is an excellent, resourceful tool for machine learning in Python. We've seen how we can split a dataset with `train_test_split` into a train and test set, create and train a model, use the trained model to create predictions, and how to use the tools from `sklearn.metrics` to evaluate how good the model is."
   ]
  }
 ],
 "metadata": {
  "kernelspec": {
   "display_name": "Python 3",
   "language": "python",
   "name": "python3"
  },
  "language_info": {
   "codemirror_mode": {
    "name": "ipython",
    "version": 3
   },
   "file_extension": ".py",
   "mimetype": "text/x-python",
   "name": "python",
   "nbconvert_exporter": "python",
   "pygments_lexer": "ipython3",
   "version": "3.8.5"
  }
 },
 "nbformat": 4,
 "nbformat_minor": 4
}
