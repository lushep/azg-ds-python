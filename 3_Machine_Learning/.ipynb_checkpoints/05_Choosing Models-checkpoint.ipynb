{
 "cells": [
  {
   "cell_type": "markdown",
   "metadata": {
    "slideshow": {
     "slide_type": "slide"
    }
   },
   "source": [
    "---\n",
    "\n",
    "## Overview of Supervised Learning Algorithm\n",
    "Supervised learning is the machine learning task of inferring a function from **labeled training data**. \n",
    "\n",
    "<img src='images/reg-v-class.png' width='300px' align='right' style=\"padding: 30px\">\n",
    "\n",
    "### Steps to success\n",
    "\n",
    "- Training data with labeled examples\n",
    "- Find optimal model parameters\n",
    "- Predict unknown labels\n",
    "\n",
    "### Types of Supervised Learning:\n",
    "\n",
    "- **Classification:** A classification problem is when the output variable is a category, such as “red” and “blue” or “disease” and “no disease”.\n",
    "- **Regression:** A regression problem is when the output variable is a real value, such as “dollars” or “weight”."
   ]
  },
  {
   "cell_type": "markdown",
   "metadata": {
    "slideshow": {
     "slide_type": "subslide"
    }
   },
   "source": [
    "---\n",
    "\n",
    "## Overview of Unsupervised Learning Algorithm\n",
    "Unsupervised learning is the machine learning task of inferring a function to describe **hidden structures** from **unlabeled data**.\n",
    "\n",
    "### Steps to sucesss\n",
    "\n",
    "<img src='images/unsupervised.png' width='600px' align='right' style=\"padding: 30px\">\n",
    "\n",
    "- Only have input data with no corresponding output\n",
    "- Model the underlying structure or distribution\n",
    "- No correct answer/model - no teacher\n",
    "- Left on their own to discover the structure\n",
    "\n",
    "### Types of Unsupervised learning\n",
    "\n",
    "- **Clustering:** A clustering problem is where you want to discover the inherent groupings in the data, such as grouping customers by purchasing behavior.\n",
    "- **Association:** An association rule learning problem is where you want to discover rules that describe large portions of your data, such as people that buy X also tend to buy Y."
   ]
  },
  {
   "cell_type": "markdown",
   "metadata": {
    "slideshow": {
     "slide_type": "subslide"
    }
   },
   "source": [
    "---\n",
    " \n",
    "## Overview of Reinforcement Learning\n",
    "A reinforcement learning algorithm, or agent, learns by interacting with its environment. The agent receives rewards by performing correctly and penalties for performing incorrectly. The agent learns without intervention from a human by maximizing its reward and minimizing its penalty. \n",
    "<img src='images/reinforcement.png' width='400px' align='right' style=\"padding: 30px\">\n",
    "\n",
    "#### Examples of Reinforcement Learning\n",
    "\n",
    "- Chess\n",
    "- Go - AlphaGo\n",
    "- Dota 2 - OpenAi"
   ]
  },
  {
   "cell_type": "markdown",
   "metadata": {
    "slideshow": {
     "slide_type": "subslide"
    }
   },
   "source": [
    "## Summary of algorithms\n",
    "\n",
    "|Algorithm|Short Summary|\n",
    "|:---:|:---:|\n",
    "|**Supervised**|All data is **labeled** and the algorithm **learns to predict** the output from the data input|\n",
    "|**Unsupervised**|Add data is **unlabeled** and the algorithm **learns the inherent** structure from the input data|\n",
    "|**Reinforcement Learning**|An agent **maximises the level of reward** by interacting within an environment with **no intervention from a human**.|"
   ]
  },
  {
   "cell_type": "markdown",
   "metadata": {
    "slideshow": {
     "slide_type": "subslide"
    }
   },
   "source": [
    "![](images/ml-robot.jpeg)\n",
    "\n",
    "Some also consider ***semi-supervised*** to be the fourth type of algorithm. This is where some data is **labeled** but most of it is **unlabeled** and a **mixture of supervised and unsupervised** techniques can be used"
   ]
  },
  {
   "cell_type": "markdown",
   "metadata": {
    "slideshow": {
     "slide_type": "slide"
    }
   },
   "source": [
    "<img src='images/choosing.jpeg' width='300px' align='right' style=\"padding: 30px\">\n",
    "\n",
    "## Choosing the right algorithm (supervised learning)\n",
    "\n",
    "There are some key things to think about when choosing the right algorithm.\n",
    "\n",
    "- Do you have labeled data?\n",
    "- What does you label look like?\n",
    "- What kind of data do you have?\n",
    "- Is accuracy and/or interpretability the priority of the output"
   ]
  },
  {
   "cell_type": "markdown",
   "metadata": {
    "slideshow": {
     "slide_type": "subslide"
    }
   },
   "source": [
    "### Machine Learning Algorithm Chooser Cheat Sheet\n",
    "\n",
    "The below is cropped to focus on just supervised learning.\n",
    "\n",
    "<img src='images/cheatsheet.png'>"
   ]
  },
  {
   "cell_type": "markdown",
   "metadata": {
    "slideshow": {
     "slide_type": "slide"
    }
   },
   "source": [
    "## <mark>Exercise - Making a plan for a Use Case</mark>\n",
    "\n",
    "In the assignment folder you'll find a [Choosing Models assignment](assignments/Choosing_Models/). In teams you will come up with a plan around a given use case. You must decide on the type of probem and algorithm you will use the solve. In particular you will answer the following questions:\n",
    "\n",
    "- Identify your target variable\n",
    "- What kind of problem do you have? Regression or classification problem?\n",
    "- What type of model do you think would be good to use?\n",
    "- Is it more important to be accurate or to have interpretability?\n",
    "- What kind of features would be important to consider?\n",
    "- What features could be dropped?\n",
    "- Can you think of any features you might need to create?"
   ]
  }
 ],
 "metadata": {
  "kernelspec": {
   "display_name": "Python 3",
   "language": "python",
   "name": "python3"
  },
  "language_info": {
   "codemirror_mode": {
    "name": "ipython",
    "version": 3
   },
   "file_extension": ".py",
   "mimetype": "text/x-python",
   "name": "python",
   "nbconvert_exporter": "python",
   "pygments_lexer": "ipython3",
   "version": "3.8.5"
  }
 },
 "nbformat": 4,
 "nbformat_minor": 4
}
