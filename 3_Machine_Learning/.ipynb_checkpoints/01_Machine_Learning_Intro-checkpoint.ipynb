{
 "cells": [
  {
   "cell_type": "markdown",
   "metadata": {
    "slideshow": {
     "slide_type": "slide"
    }
   },
   "source": [
    "<img src='images/gdd-logo.png' width='300px' align='right' style=\"padding: 15px\">\n",
    "\n",
    "# Machine Learning\n",
    "\n",
    "Machine Learning has been a **buzzword** for years, especially with the high amount of data production by applications, the increase of computation power and the development of better algorithms. Machine Learning is used anywhere from automating mundane tasks to offering intelligent insights.\n",
    "\t\n",
    "\n",
    "\n",
    "\n"
   ]
  },
  {
   "cell_type": "markdown",
   "metadata": {
    "slideshow": {
     "slide_type": "slide"
    }
   },
   "source": [
    "---\n",
    "<img src='images/ml.jpeg' width='300px' align='right' style=\"padding: 20px\">\n",
    "\n",
    "There are many examples of ML in use:\n",
    "\n",
    "- **Prediction** — Using past data to make predictions of the future.\n",
    "- **Image recognition** — Detecting potential fraudsters, border control or logging in to personal devices.\n",
    "- **Speech Recognition** — The translation of spoken words into the text, voice searches, voice dialing and more.\n",
    "- **Medical diagnoses** — Machines can be trained to recognize cancerous tissues in imagery.\n",
    "- **Financial industry and trading** — companies use ML in fraud investigations and credit checks."
   ]
  },
  {
   "cell_type": "markdown",
   "metadata": {
    "slideshow": {
     "slide_type": "slide"
    }
   },
   "source": [
    "## A Quick History of Machine Learning\n",
    "\n",
    "The first manually operated computer system, ENIAC (Electronic Numerical Integrator and Computer), was invented in the 1940s. At that time the word “computer” was being used as a name for a human with intensive numerical computation capabilities, so, ENIAC was called a numerical computing machine! Well, you may say it has nothing to do with learning?! WRONG, from the beginning the idea was to build a machine able to emulate human thinking and learning.\n",
    "\n",
    "<img src='images/ml-history.jpeg' width=400px>"
   ]
  },
  {
   "cell_type": "markdown",
   "metadata": {
    "slideshow": {
     "slide_type": "subslide"
    }
   },
   "source": [
    "In the 1950s, we see the first computer game program claiming to be able to beat the checkers world champion. This program helped checkers players a lot in improving their skills!\n",
    "\n",
    "<img src='images/ml-timeline.png'>\n",
    "\n",
    "Thanks to statistics, machine learning became very famous in the 1990s. The intersection of computer science and statistics gave birth to probabilistic approaches in AI. This shifted the field further toward data-driven approaches. Having large-scale data available, scientists started to build intelligent systems that were able to analyze and learn from large amounts of data."
   ]
  },
  {
   "cell_type": "markdown",
   "metadata": {
    "slideshow": {
     "slide_type": "subslide"
    }
   },
   "source": [
    "---\n",
    "\n",
    "## What is Machine Learning?\n",
    "\n",
    "Machine Learning algorithms enable the computers to learn from data, and even improve themselves, without being explicitly programmed.\n",
    "\n",
    "Machine learning can be classified into 3 types of algorithms.\n",
    "\n",
    "<img src='images/ml-types.jpeg'>"
   ]
  },
  {
   "cell_type": "markdown",
   "metadata": {
    "slideshow": {
     "slide_type": "subslide"
    }
   },
   "source": [
    "## Summary of algorithms\n",
    "\n",
    "|Algorithm|Short Summary|\n",
    "|:---:|:---:|\n",
    "|**Supervised**|All data is **labeled** and the algorithm **learns to predict** the output from the data input|\n",
    "|**Unsupervised**|Add data is **unlabeled** and the algorithm **learns the inherent** structure from the input data|\n",
    "|**Reinforcement Learning**|An agent **maximises the level of reward** by interacting within an environment with **no intervention from a human**.|"
   ]
  },
  {
   "cell_type": "markdown",
   "metadata": {
    "slideshow": {
     "slide_type": "subslide"
    }
   },
   "source": [
    "![](images/ml-robot.jpeg)\n",
    "\n",
    "Some also consider ***semi-supervised*** to be the fourth type of algorithm. This is where some data is **labeled** but most of it is **unlabeled** and a **mixture of supervised and unsupervised** techniques can be used"
   ]
  },
  {
   "cell_type": "markdown",
   "metadata": {},
   "source": [
    "### Next Steps\n",
    "\n",
    "We will only be looking at supervised learning over this training. This is because it is the most common form of machine learning and there is so much to learn in this one area of machine learning.\n",
    "\n",
    "We will start with classification, then look into regression and finish off with building pipelines in machine learning."
   ]
  }
 ],
 "metadata": {
  "kernelspec": {
   "display_name": "Python 3",
   "language": "python",
   "name": "python3"
  },
  "language_info": {
   "codemirror_mode": {
    "name": "ipython",
    "version": 3
   },
   "file_extension": ".py",
   "mimetype": "text/x-python",
   "name": "python",
   "nbconvert_exporter": "python",
   "pygments_lexer": "ipython3",
   "version": "3.8.5"
  }
 },
 "nbformat": 4,
 "nbformat_minor": 4
}
