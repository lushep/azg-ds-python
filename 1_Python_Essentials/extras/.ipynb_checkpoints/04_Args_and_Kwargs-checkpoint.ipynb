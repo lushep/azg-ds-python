{
 "cells": [
  {
   "cell_type": "markdown",
   "metadata": {},
   "source": [
    "# Args and Kwargs\n",
    "\n",
    "Args and Kwargs are a way in which we can write a function, without needing to explicitly state how many arguments we will pass into the function.\n",
    "\n",
    "* [Using `*args`](#args)\n",
    "    * [<mark>Exercises: Function with \\*args</mark>](#ex-func-args)\n",
    "* [Using `**kwargs`](#kwargs)\n",
    "    * [<mark>Exercises: Function with \\*\\*kwargs</mark>](#ex-func-kwargs)"
   ]
  },
  {
   "cell_type": "markdown",
   "metadata": {},
   "source": [
    "<a id='args'></a>\n",
    "## Using *args\n",
    "\n",
    "We use \\*args as an argument when we are unsure about the number of arguments to pass in the functions.\n",
    "\n",
    "**Example:**\n",
    "Create a function that adds all the numbers together, regardless of how many numbers are passed in:"
   ]
  },
  {
   "cell_type": "code",
   "execution_count": null,
   "metadata": {
    "lines_to_next_cell": 2
   },
   "outputs": [],
   "source": [
    "def add_numbers(*args):\n",
    "    return sum(args)"
   ]
  },
  {
   "cell_type": "code",
   "execution_count": null,
   "metadata": {},
   "outputs": [],
   "source": [
    "add_numbers(5,6,7)"
   ]
  },
  {
   "cell_type": "markdown",
   "metadata": {},
   "source": [
    "You can mix types when passing \\*args into a function:"
   ]
  },
  {
   "cell_type": "code",
   "execution_count": null,
   "metadata": {
    "lines_to_next_cell": 2
   },
   "outputs": [],
   "source": [
    "def new_func(*args):\n",
    "    print(args)"
   ]
  },
  {
   "cell_type": "code",
   "execution_count": null,
   "metadata": {},
   "outputs": [],
   "source": [
    "new_func(1,2,3,'hey',True)"
   ]
  },
  {
   "cell_type": "markdown",
   "metadata": {},
   "source": [
    "You can also have a **mix** of some normal parameters plus an args parameter:"
   ]
  },
  {
   "cell_type": "code",
   "execution_count": null,
   "metadata": {
    "lines_to_next_cell": 2
   },
   "outputs": [],
   "source": [
    "def sum_numbers(x, y, *args):\n",
    "    \n",
    "    output = x + y\n",
    "    \n",
    "    for el in args:\n",
    "        output+=el\n",
    "        \n",
    "    return output"
   ]
  },
  {
   "cell_type": "code",
   "execution_count": null,
   "metadata": {},
   "outputs": [],
   "source": [
    "sum_numbers(5, 6, 1, 2, 9.0)"
   ]
  },
  {
   "cell_type": "markdown",
   "metadata": {},
   "source": [
    "<a id = 'ex-func-args'></a>\n",
    "## <mark>Exercise: function with *args</mark>\n",
    "    \n",
    "<mark>**Choose and exercise to do** the second is more tricky.</mark>\n",
    "\n",
    "### Exercise 1\n",
    "\n",
    "Write a function that can multiply an arbitrary amount of numbers together\n",
    "\n",
    "Extra: give your function a useful docstring and use the help() function to view it"
   ]
  },
  {
   "cell_type": "code",
   "execution_count": null,
   "metadata": {},
   "outputs": [],
   "source": []
  },
  {
   "cell_type": "markdown",
   "metadata": {},
   "source": [
    "<a id = 'ex-func-alphabet'></a>\n",
    "\n",
    "### Exercise 2\n",
    "\n",
    "Write a function that takes an arbitary amount of numbers and returns a dictionary of the numbers where the keys are the numbers and the values are the corresponding letter in the alphabet. If the number is greater than 26 it should loop through the alphabet.\n",
    "\n",
    "i.e.\n",
    "\n",
    "    my_alphabet_function(1, 4, 5, 27, 97) \n",
    "    \n",
    "    should output:\n",
    "\n",
    "    {1: 'a', 4: 'd', 5: 'e', 27: 'a', 97: 's'}\n",
    "\n",
    "Extra: give your function a useful docstring and use the help() function to view it"
   ]
  },
  {
   "cell_type": "code",
   "execution_count": null,
   "metadata": {},
   "outputs": [],
   "source": []
  },
  {
   "cell_type": "markdown",
   "metadata": {},
   "source": [
    "<a id='kwargs'></a>\n",
    "## Using \\*\\*kwargs \n",
    "\\*\\*Kwargs act really similar to \\*args, but instead they are **key word arguments**. This means they need a keyword assignment when the argument is called:"
   ]
  },
  {
   "cell_type": "code",
   "execution_count": null,
   "metadata": {
    "lines_to_next_cell": 2
   },
   "outputs": [],
   "source": [
    "def show_kwargs(**kwargs):\n",
    "    print(kwargs)"
   ]
  },
  {
   "cell_type": "code",
   "execution_count": null,
   "metadata": {},
   "outputs": [],
   "source": [
    "show_kwargs(key_word1 = 'Hello', key_word2 = 'World!')"
   ]
  },
  {
   "cell_type": "markdown",
   "metadata": {},
   "source": [
    "**Example**: write a function that can print the forename, middle name and surname of a person"
   ]
  },
  {
   "cell_type": "code",
   "execution_count": null,
   "metadata": {
    "lines_to_next_cell": 2
   },
   "outputs": [],
   "source": [
    "def name_func(**names):\n",
    "    \n",
    "    for name in names:\n",
    "        print(name.title() + ':', names[name])"
   ]
  },
  {
   "cell_type": "code",
   "execution_count": null,
   "metadata": {},
   "outputs": [],
   "source": [
    "name_func(forename='Lucy', surname = 'Sheppard')"
   ]
  },
  {
   "cell_type": "markdown",
   "metadata": {},
   "source": [
    "You can mix **default parameters** with **\\*\\*kwargs**"
   ]
  },
  {
   "cell_type": "code",
   "execution_count": null,
   "metadata": {
    "lines_to_next_cell": 2
   },
   "outputs": [],
   "source": [
    "# ranking function\n",
    "def rank_names(a = 'tim', b = 'colette', c ='jenny', **kwargs):\n",
    "    print(\"1st\", a)\n",
    "    print(\"2nd\", b)\n",
    "    print(\"3rd\", c)\n",
    "    \n",
    "    for i, value in enumerate(kwargs.values()):\n",
    "        position = str(i + 4)\n",
    "        print(position + \"th\", value)"
   ]
  },
  {
   "cell_type": "code",
   "execution_count": null,
   "metadata": {},
   "outputs": [],
   "source": [
    "rank_names(d='lilly', e='bill')"
   ]
  },
  {
   "cell_type": "markdown",
   "metadata": {},
   "source": [
    "<a id = 'ex-func-kwargs'></a>\n",
    "## <mark>Exercise: Function with \\*\\*kwargs</mark>\n",
    "\n",
    "Write a function that takes in the areas in meter squared of the rooms of a house, prints a list of all the rooms and returns the total area of the property.\n",
    "\n",
    "For example, the following inputs:\n",
    "```python\n",
    "Bathroom = 10\n",
    "Bedroom = 20\n",
    "Living = 20\n",
    "Kitchen = 15\n",
    "```\n",
    "\n",
    "Would print:\n",
    "\n",
    "    Rooms in the property:\n",
    "    Bathroom\n",
    "    Bedroom\n",
    "    Living\n",
    "    Kitchen\n",
    "\n",
    "and have a final output of:\n",
    "\n",
    "    'The total square meter of the property is 60 meters squared'\n"
   ]
  },
  {
   "cell_type": "code",
   "execution_count": null,
   "metadata": {},
   "outputs": [],
   "source": []
  }
 ],
 "metadata": {
  "kernelspec": {
   "display_name": "Python 3",
   "language": "python",
   "name": "python3"
  },
  "language_info": {
   "codemirror_mode": {
    "name": "ipython",
    "version": 3
   },
   "file_extension": ".py",
   "mimetype": "text/x-python",
   "name": "python",
   "nbconvert_exporter": "python",
   "pygments_lexer": "ipython3",
   "version": "3.8.5"
  }
 },
 "nbformat": 4,
 "nbformat_minor": 4
}
