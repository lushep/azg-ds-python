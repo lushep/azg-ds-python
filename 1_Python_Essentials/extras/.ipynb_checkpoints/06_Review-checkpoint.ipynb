{
 "cells": [
  {
   "cell_type": "markdown",
   "metadata": {},
   "source": [
    "# Python Essentials Review\n",
    "\n",
    "Using the knowledge from the Python Essentials notebooks, answer the following questions.\n",
    "\n",
    "If there is a variable for you to use make sure you run that cell first!"
   ]
  },
  {
   "cell_type": "markdown",
   "metadata": {},
   "source": [
    "# Review A"
   ]
  },
  {
   "cell_type": "code",
   "execution_count": null,
   "metadata": {},
   "outputs": [],
   "source": [
    "my_new_list = [3,41, 'ee', 2.43, 3.41, \"55\", [51, 72, 39]]"
   ]
  },
  {
   "cell_type": "markdown",
   "metadata": {
    "lines_to_next_cell": 2
   },
   "source": [
    "### 1) Write code to print the number 72 from of the list"
   ]
  },
  {
   "cell_type": "code",
   "execution_count": null,
   "metadata": {
    "lines_to_next_cell": 2
   },
   "outputs": [],
   "source": []
  },
  {
   "cell_type": "code",
   "execution_count": null,
   "metadata": {
    "lines_to_next_cell": 2
   },
   "outputs": [],
   "source": []
  },
  {
   "cell_type": "markdown",
   "metadata": {
    "lines_to_next_cell": 2
   },
   "source": [
    "### 2) Write code to get a new list that contains only numbers"
   ]
  },
  {
   "cell_type": "code",
   "execution_count": null,
   "metadata": {},
   "outputs": [],
   "source": []
  },
  {
   "cell_type": "code",
   "execution_count": null,
   "metadata": {
    "lines_to_next_cell": 2
   },
   "outputs": [],
   "source": []
  },
  {
   "cell_type": "markdown",
   "metadata": {},
   "source": [
    "### 3) Write a function that takes a list, extracts all the numbers, then returns them in order (bonus: include an option to specify whether the order is ascending or descending)"
   ]
  },
  {
   "cell_type": "code",
   "execution_count": null,
   "metadata": {
    "lines_to_next_cell": 2
   },
   "outputs": [],
   "source": []
  },
  {
   "cell_type": "markdown",
   "metadata": {},
   "source": [
    "# Review B\n",
    "\n",
    "## Data types\n",
    "\n",
    "### 1. integers and floats\n",
    "\n",
    "Clean the list of yearly sales data so that it contains only floats"
   ]
  },
  {
   "cell_type": "code",
   "execution_count": null,
   "metadata": {
    "lines_to_next_cell": 2
   },
   "outputs": [],
   "source": [
    "monthly_sales = [12000, 13400, '17000', 'no_sales', 12000, 17000, 14555,444, 15456, 17238, 17238, 12638 ]"
   ]
  },
  {
   "cell_type": "code",
   "execution_count": null,
   "metadata": {},
   "outputs": [],
   "source": []
  },
  {
   "cell_type": "code",
   "execution_count": null,
   "metadata": {},
   "outputs": [],
   "source": []
  },
  {
   "cell_type": "markdown",
   "metadata": {},
   "source": [
    "### 2. strings\n",
    "\n",
    "Create one list of months called \"months of the year\", ensure they all have capital letters, are in order, and no months are missing."
   ]
  },
  {
   "cell_type": "code",
   "execution_count": 2,
   "metadata": {
    "lines_to_next_cell": 2
   },
   "outputs": [],
   "source": [
    "first_months = ['january', ' february', 'march', 'april', 'may']\n",
    "second_months = ['May', 'June', 'August', 'July', ' September']\n",
    "third_months = ['October', 'November', 'December']"
   ]
  },
  {
   "cell_type": "code",
   "execution_count": 5,
   "metadata": {},
   "outputs": [
    {
     "data": {
      "text/plain": [
       "['May', 'June', 'August', 'July', ' September']"
      ]
     },
     "execution_count": 5,
     "metadata": {},
     "output_type": "execute_result"
    }
   ],
   "source": [
    "[x.title() for x in first_months] \n",
    "second_months[:2] + second_months[]"
   ]
  },
  {
   "cell_type": "code",
   "execution_count": null,
   "metadata": {},
   "outputs": [],
   "source": []
  },
  {
   "cell_type": "markdown",
   "metadata": {},
   "source": [
    "### 3. booleans\n",
    "\n",
    "Build a function that takes a list as input, loops through the list\n",
    "and then prints out a bool (true or false) if the values in list are greater than 10000.\n",
    "\n",
    "Run the function on the CLEANED monthly sales list"
   ]
  },
  {
   "cell_type": "code",
   "execution_count": null,
   "metadata": {},
   "outputs": [],
   "source": []
  },
  {
   "cell_type": "markdown",
   "metadata": {},
   "source": [
    "## Containers\n",
    "\n",
    "### 4. lists and tuples \n",
    "\n",
    "Create a new list that contains tuples of the month and monthly sales, e.g. [(January, 12000.0), (February, 13400.0)]"
   ]
  },
  {
   "cell_type": "code",
   "execution_count": null,
   "metadata": {},
   "outputs": [],
   "source": []
  },
  {
   "cell_type": "markdown",
   "metadata": {},
   "source": [
    "### 5. sets\n",
    "How many months have a monthly sales value that has not been seen before?"
   ]
  },
  {
   "cell_type": "code",
   "execution_count": null,
   "metadata": {},
   "outputs": [],
   "source": []
  },
  {
   "cell_type": "markdown",
   "metadata": {},
   "source": [
    "### 6. dictionaries\n",
    "\n",
    "create a monthly sales dictionary, e.g. can look up monthly sales for January like so\n",
    "```python\n",
    "sales_dict['January']\n",
    "```"
   ]
  },
  {
   "cell_type": "code",
   "execution_count": null,
   "metadata": {},
   "outputs": [],
   "source": []
  },
  {
   "cell_type": "markdown",
   "metadata": {},
   "source": [
    "## Functions\n",
    "### 7. functions \n",
    "\n",
    "- Create a function that adds up monthly sales\n",
    "- bonus: it should be able to work for any number of months: e.g. first 6 months of the year\n",
    "- bonus: if it is not giving the total for the whole year, it should print and explain what months it is being used for"
   ]
  },
  {
   "cell_type": "code",
   "execution_count": null,
   "metadata": {},
   "outputs": [],
   "source": []
  },
  {
   "cell_type": "markdown",
   "metadata": {},
   "source": [
    "## Files\n",
    "\n",
    "### 8. directories\n",
    "Create a directory called monthly sales."
   ]
  },
  {
   "cell_type": "code",
   "execution_count": null,
   "metadata": {},
   "outputs": [],
   "source": []
  },
  {
   "cell_type": "markdown",
   "metadata": {},
   "source": [
    "### 9. files\n",
    "Save the cleaned monthly sales as a `.txt` file in the monthly sales directory.\n",
    "Ensure that each month's sales is on a new line."
   ]
  },
  {
   "cell_type": "code",
   "execution_count": null,
   "metadata": {},
   "outputs": [],
   "source": []
  }
 ],
 "metadata": {
  "jupytext": {
   "formats": "ipynb,scripts//py"
  },
  "kernelspec": {
   "display_name": "Python 3",
   "language": "python",
   "name": "python3"
  },
  "language_info": {
   "codemirror_mode": {
    "name": "ipython",
    "version": 3
   },
   "file_extension": ".py",
   "mimetype": "text/x-python",
   "name": "python",
   "nbconvert_exporter": "python",
   "pygments_lexer": "ipython3",
   "version": "3.8.5"
  }
 },
 "nbformat": 4,
 "nbformat_minor": 4
}
