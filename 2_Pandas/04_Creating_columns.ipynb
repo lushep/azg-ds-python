{
 "cells": [
  {
   "cell_type": "markdown",
   "metadata": {},
   "source": [
    "# Creating New Columns\n",
    "\n",
    "Often we will want to create a new column so that we can use it at a later date.\n",
    "\n",
    "In this notebook we will cover:\n",
    "\n",
    "* [Creating new columns: avoid common bad practice](#bad-pract)\n",
    "* [Using `assign()` to create new columns](#assign)\n",
    "* [Shifting a column](#shifting)\n",
    "* [Other Verbs](#other-verbs)\n",
    "    * [Renaming columns](#rename)\n",
    "    * [Drop duplicate values](#drop)\n",
    "* [<mark>Assignment</mark>](#dead-chickens)\n",
    "\n",
    "Before we do that thought, let's import pandas and read in our data as we're in a new notebook:"
   ]
  },
  {
   "cell_type": "code",
   "execution_count": null,
   "metadata": {},
   "outputs": [],
   "source": [
    "import pandas as pd\n",
    "\n",
    "chickweight = (\n",
    "    pd.read_csv('data/chickweight.csv')\n",
    "    .rename(str.lower, axis='columns')\n",
    ")"
   ]
  },
  {
   "cell_type": "markdown",
   "metadata": {},
   "source": [
    "<a id='bad-pract'></a>\n",
    "## Creating new columns: avoid common bad practice\n",
    "\n",
    "Say we want to create a new column where the weight is doubled.\n",
    "\n",
    "We have the ability to use the assignment tool to create a new column as seen below."
   ]
  },
  {
   "cell_type": "code",
   "execution_count": null,
   "metadata": {},
   "outputs": [],
   "source": [
    "chickweight['weight2'] = chickweight['weight'] * 2"
   ]
  },
  {
   "cell_type": "markdown",
   "metadata": {},
   "source": [
    "We can see the result of this below."
   ]
  },
  {
   "cell_type": "code",
   "execution_count": null,
   "metadata": {},
   "outputs": [],
   "source": [
    "chickweight.head()"
   ]
  },
  {
   "cell_type": "markdown",
   "metadata": {},
   "source": [
    "However, adding columns like this is an anti-pattern as we have changed the original dataframe.\n",
    "\n",
    "**Code should always perform in the same way regardless of where it is in the project**\n",
    "\n",
    "Imagine in our analysis we were using the below code to find the max of the second-last column (`'chick'`) of the dataframe:"
   ]
  },
  {
   "cell_type": "code",
   "execution_count": null,
   "metadata": {
    "lines_to_next_cell": 2
   },
   "outputs": [],
   "source": [
    "def max_penultimate_column(df):\n",
    "    return df.iloc[:,-2].max()"
   ]
  },
  {
   "cell_type": "code",
   "execution_count": null,
   "metadata": {},
   "outputs": [],
   "source": [
    "max_penultimate_column(chickweight)"
   ]
  },
  {
   "cell_type": "markdown",
   "metadata": {},
   "source": [
    "if someone else picks up our code and doesn't realise the original dataframe was over-written, they would get a different result from this function"
   ]
  },
  {
   "cell_type": "code",
   "execution_count": null,
   "metadata": {
    "lines_to_next_cell": 2
   },
   "outputs": [],
   "source": [
    "chickweight = (\n",
    "    pd.read_csv('data/chickweight.csv')\n",
    "    .rename(str.lower, axis='columns')\n",
    ")"
   ]
  },
  {
   "cell_type": "code",
   "execution_count": null,
   "metadata": {},
   "outputs": [],
   "source": [
    "max_penultimate_column(chickweight)"
   ]
  },
  {
   "cell_type": "markdown",
   "metadata": {
    "lines_to_next_cell": 0
   },
   "source": [
    "This kind of thing can lead to pandas frustration...\n",
    "\n",
    "<img src='images/panda.gif' width='300px' align='left'>"
   ]
  },
  {
   "cell_type": "markdown",
   "metadata": {},
   "source": [
    "To avoid this, we never want to overwrite our data frame.\n",
    "\n",
    "We should also avoid things like:"
   ]
  },
  {
   "cell_type": "code",
   "execution_count": null,
   "metadata": {},
   "outputs": [],
   "source": [
    "chickweight_temp = chickweight.copy()\n",
    "chickweight_temp['weight2'] = chickweight_temp['weight'] * 2"
   ]
  },
  {
   "cell_type": "markdown",
   "metadata": {},
   "source": [
    "OK so we didn't overwrite our dataframe, but eventually we will end up with too many versions of a dataframe, which is not ideal & will become confusing in a long notebook.\n",
    "\n",
    "***So what's the answer?***\n",
    "\n",
    "Well first let's read our data in once more so we're back to the original:"
   ]
  },
  {
   "cell_type": "code",
   "execution_count": null,
   "metadata": {},
   "outputs": [],
   "source": [
    "chickweight = (\n",
    "    pd.read_csv('data/chickweight.csv')\n",
    "    .rename(str.lower, axis='columns')\n",
    ")"
   ]
  },
  {
   "cell_type": "markdown",
   "metadata": {},
   "source": [
    "<a id='assign'></a>\n",
    "## Using `assign()` to create new columns\n",
    "We can tell pandas to make a new column with `.assign()` and **how** this is done is determined by a lambda that we pass into the method."
   ]
  },
  {
   "cell_type": "code",
   "execution_count": null,
   "metadata": {},
   "outputs": [],
   "source": [
    "(\n",
    "    chickweight\n",
    "    .assign(weight2=lambda df: df['weight'] * 2)\n",
    ").head()"
   ]
  },
  {
   "cell_type": "markdown",
   "metadata": {},
   "source": [
    "Note that we have not changed our original dataframe"
   ]
  },
  {
   "cell_type": "code",
   "execution_count": null,
   "metadata": {},
   "outputs": [],
   "source": [
    "chickweight.head()"
   ]
  },
  {
   "cell_type": "markdown",
   "metadata": {},
   "source": [
    "Want to assign two columns at the same time? No problem!"
   ]
  },
  {
   "cell_type": "code",
   "execution_count": null,
   "metadata": {},
   "outputs": [],
   "source": [
    "(\n",
    "    chickweight\n",
    "    .loc[lambda df: df['weight'] < 45]\n",
    "    .assign(weight2 = chickweight['weight'] * 2, \n",
    "            weight3 = chickweight['weight'] * 3)\n",
    ").head()"
   ]
  },
  {
   "cell_type": "markdown",
   "metadata": {},
   "source": [
    "**Assuming that the chick weights are in grams, can you add a column that gives the chickweights in kg?**"
   ]
  },
  {
   "cell_type": "code",
   "execution_count": null,
   "metadata": {},
   "outputs": [],
   "source": []
  },
  {
   "cell_type": "markdown",
   "metadata": {},
   "source": [
    "Note that we can also drop columns if requried!"
   ]
  },
  {
   "cell_type": "code",
   "execution_count": null,
   "metadata": {},
   "outputs": [],
   "source": [
    "(\n",
    "    chickweight\n",
    "    .drop(columns = ['rownum', 'time'])\n",
    ").head()"
   ]
  },
  {
   "cell_type": "markdown",
   "metadata": {},
   "source": [
    "<a id='shifting'></a>\n",
    "\n",
    "## Shifting a column\n",
    "\n",
    "The shift() method for a pandas series helps shift values in a column up or down."
   ]
  },
  {
   "cell_type": "code",
   "execution_count": null,
   "metadata": {},
   "outputs": [],
   "source": [
    "(\n",
    "    chickweight\n",
    "    .assign(shifted_time=lambda df: df['time'].shift(5)\n",
    ").head(14)  "
   ]
  },
  {
   "cell_type": "markdown",
   "metadata": {},
   "source": [
    "Imagine you wanted to investigate the rate of growth for different diets - You may need the previous weight of a chick at each timepoint. \n",
    "\n",
    "What **issue** can you see below??"
   ]
  },
  {
   "cell_type": "code",
   "execution_count": null,
   "metadata": {},
   "outputs": [],
   "source": [
    "(\n",
    "    chickweight\n",
    "    .assign(previous_weight=lambda df: df['weight'].shift())\n",
    ").head(14)"
   ]
  },
  {
   "cell_type": "markdown",
   "metadata": {},
   "source": [
    "Let's use `.groupby()` to solve this issue so the shifts only happen for each chicken separately."
   ]
  },
  {
   "cell_type": "code",
   "execution_count": null,
   "metadata": {},
   "outputs": [],
   "source": [
    "(\n",
    "    chickweight\n",
    "    .assign(previous_weight=lambda df: df.groupby('chick')['weight'].shift())\n",
    ").head(14)"
   ]
  },
  {
   "cell_type": "markdown",
   "metadata": {},
   "source": [
    "Can we get rid of the NaNs?"
   ]
  },
  {
   "cell_type": "code",
   "execution_count": null,
   "metadata": {
    "lines_to_next_cell": 2
   },
   "outputs": [],
   "source": [
    "# drop rows with NaN in\n",
    "(\n",
    "    chickweight\n",
    "    .assign(previous_weight=lambda df: df.groupby('chick')['weight'].shift())\n",
    "    .dropna()\n",
    ").head(14)"
   ]
  },
  {
   "cell_type": "code",
   "execution_count": null,
   "metadata": {},
   "outputs": [],
   "source": [
    "# we don't want to always drop rows with NaN as we're missing vital data\n",
    "# how about instead we set the previous weight to the current weight in every first record:\n",
    "(\n",
    "    chickweight\n",
    "    .assign(previous_weight=lambda df: df.groupby('chick')['weight'].shift().fillna(df['weight']))\n",
    ").head(14)"
   ]
  },
  {
   "cell_type": "markdown",
   "metadata": {},
   "source": [
    "**Can you create a new column called `differences` that contains the difference between the chicks current weight and its previous weight?**"
   ]
  },
  {
   "cell_type": "code",
   "execution_count": null,
   "metadata": {},
   "outputs": [],
   "source": []
  },
  {
   "cell_type": "markdown",
   "metadata": {
    "lines_to_next_cell": 0
   },
   "source": [
    "<a id='other-verbs'></a>\n",
    "\n",
    "## Other Verbs\n",
    "\n",
    "The following methods can also be useful\n",
    "<a id='rename'></a>"
   ]
  },
  {
   "cell_type": "markdown",
   "metadata": {},
   "source": [
    "### Cumulative counts"
   ]
  },
  {
   "cell_type": "markdown",
   "metadata": {},
   "source": [
    "After a `.groupby()`, we can use the `.cumcount()` method to get a cumulative count of the rows of a particular group."
   ]
  },
  {
   "cell_type": "code",
   "execution_count": null,
   "metadata": {},
   "outputs": [],
   "source": [
    "(\n",
    "    chickweight\n",
    "    .groupby('chick').cumcount()\n",
    ").head(15)"
   ]
  },
  {
   "cell_type": "markdown",
   "metadata": {},
   "source": [
    "We can add this information to a column using the `.assign()` method."
   ]
  },
  {
   "cell_type": "code",
   "execution_count": null,
   "metadata": {},
   "outputs": [],
   "source": [
    "(\n",
    "    chickweight\n",
    "    .assign(rank=lambda df: df.groupby('chick').cumcount() + 1)\n",
    ").head(15)"
   ]
  },
  {
   "cell_type": "markdown",
   "metadata": {},
   "source": [
    "We can then refer to this new column in a later method using a lambda function...\n",
    "\n",
    "For example, say we want to only look at our chicks that are past their 5th iteration:"
   ]
  },
  {
   "cell_type": "code",
   "execution_count": null,
   "metadata": {},
   "outputs": [],
   "source": [
    "(\n",
    "    chickweight\n",
    "    .assign(rank=lambda df: df.groupby('chick').cumcount() + 1)\n",
    "    .loc[lambda df: df['rank'] > 5]\n",
    ").head(15)"
   ]
  },
  {
   "cell_type": "markdown",
   "metadata": {},
   "source": [
    "### Renaming columns"
   ]
  },
  {
   "cell_type": "code",
   "execution_count": null,
   "metadata": {
    "lines_to_next_cell": 2
   },
   "outputs": [],
   "source": [
    "(\n",
    "    chickweight\n",
    "    .rename(str.upper, axis=\"columns\")\n",
    "    .head(3)\n",
    ")"
   ]
  },
  {
   "cell_type": "code",
   "execution_count": null,
   "metadata": {},
   "outputs": [],
   "source": [
    "(\n",
    "    chickweight\n",
    "    .rename({\"chick\": \"chicken_id\"}, axis=\"columns\")\n",
    "    .head(3)\n",
    ")"
   ]
  },
  {
   "cell_type": "markdown",
   "metadata": {},
   "source": [
    "<a id='drop'></a>\n",
    "### Dropping duplicate information\n",
    "\n",
    "When we select a just few columns from a table, we can get left with repeated information."
   ]
  },
  {
   "cell_type": "code",
   "execution_count": null,
   "metadata": {
    "lines_to_next_cell": 2
   },
   "outputs": [],
   "source": [
    "(\n",
    "    chickweight\n",
    "    [['chick', 'diet']]\n",
    ").head()"
   ]
  },
  {
   "cell_type": "code",
   "execution_count": null,
   "metadata": {},
   "outputs": [],
   "source": [
    "(\n",
    "    chickweight\n",
    "    [['time', 'diet']]\n",
    "    .drop_duplicates()\n",
    ").head()"
   ]
  },
  {
   "cell_type": "markdown",
   "metadata": {
    "lines_to_next_cell": 0
   },
   "source": [
    "<a id='dead-chickens'></a>\n",
    "## Assignment\n",
    "\n",
    "<img src=\"images/assignment.png\" width=\"240\" height=\"240\" align=\"center\"/>\n",
    "\n",
    "### 1. Find the dead chickens\n",
    "\n",
    "There are some chickens that died prematurely. Find them! \n",
    "\n",
    "Hint: use `describe` to find some clues and use `groupby` to get your answer\n",
    "\n",
    "Can you also find which diet were they on?"
   ]
  },
  {
   "cell_type": "code",
   "execution_count": null,
   "metadata": {},
   "outputs": [],
   "source": []
  },
  {
   "cell_type": "markdown",
   "metadata": {},
   "source": [
    "<a id='fattest-chicken'></a>\n",
    "### 2. Find the fattest chicken per diet\n",
    "\n",
    "Hint: use `groupby`"
   ]
  },
  {
   "cell_type": "code",
   "execution_count": null,
   "metadata": {},
   "outputs": [],
   "source": []
  },
  {
   "cell_type": "code",
   "execution_count": null,
   "metadata": {
    "lines_to_next_cell": 2
   },
   "outputs": [],
   "source": [
    "# %load answers/dead-chickens.py"
   ]
  },
  {
   "cell_type": "code",
   "execution_count": null,
   "metadata": {
    "lines_to_next_cell": 3
   },
   "outputs": [],
   "source": [
    "# %load answers/fattest-chicken.py"
   ]
  }
 ],
 "metadata": {
  "jupytext": {
   "formats": "///ipynb,scripts//py:percent"
  },
  "kernelspec": {
   "display_name": "Python 3",
   "language": "python",
   "name": "python3"
  },
  "language_info": {
   "codemirror_mode": {
    "name": "ipython",
    "version": 3
   },
   "file_extension": ".py",
   "mimetype": "text/x-python",
   "name": "python",
   "nbconvert_exporter": "python",
   "pygments_lexer": "ipython3",
   "version": "3.8.5"
  }
 },
 "nbformat": 4,
 "nbformat_minor": 4
}
