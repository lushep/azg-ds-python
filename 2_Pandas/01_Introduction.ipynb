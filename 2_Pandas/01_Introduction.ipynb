{
 "cells": [
  {
   "cell_type": "markdown",
   "metadata": {
    "lines_to_next_cell": 0
   },
   "source": [
    "# Pandas introduction\n",
    "\n",
    "Today we are going to start exploring datasets. For this we are going to use the `pandas` library.\n",
    "\n",
    "In this section we will cover:\n",
    "\n",
    "* [<mark>Exercise: Lambdas Starter</mark>](#lambda-starter)\n",
    "* [Databases and Python](#databases)\n",
    "* [Pandas overview](#overview)\n",
    "* [Benefits of using pandas](#benefits)\n",
    "* [Data wrangling](#wrangling)\n",
    "* [Exploring a dataset](#exploring)\n",
    "* [<mark>Exercise: Explore a dataset</mark>](#ex-explore-data)\n",
    "* [Analysis](#analysis)\n",
    "<a id = 'lambda-starter'></a>\n",
    "## <mark>Exercise: Lambdas Starter</mark>\n",
    "\n",
    "Today we will do a starter on **Lambda functions**. It will be useful to go over this as they are very helpful for use with Pandas.\n",
    "1. Create a lambda function that adds 4 to a number and check it"
   ]
  },
  {
   "cell_type": "code",
   "execution_count": null,
   "metadata": {
    "lines_to_next_cell": 2
   },
   "outputs": [],
   "source": []
  },
  {
   "cell_type": "markdown",
   "metadata": {},
   "source": [
    "2. Create a lambda function that multiplies two numbers together (and check it)"
   ]
  },
  {
   "cell_type": "code",
   "execution_count": null,
   "metadata": {
    "lines_to_next_cell": 2
   },
   "outputs": [],
   "source": []
  },
  {
   "cell_type": "markdown",
   "metadata": {},
   "source": [
    "3. Create a lambda function to check if a number is bigger than 10 (and check it)"
   ]
  },
  {
   "cell_type": "code",
   "execution_count": null,
   "metadata": {},
   "outputs": [],
   "source": []
  },
  {
   "cell_type": "markdown",
   "metadata": {},
   "source": [
    "<a id = 'databases'></a>\n",
    "# Databases and Python\n",
    "\n",
    "Using Python to work with databases can be a bit messy."
   ]
  },
  {
   "cell_type": "code",
   "execution_count": null,
   "metadata": {},
   "outputs": [],
   "source": [
    "with open('data/chickweight.csv', 'r') as file:\n",
    "    type(file)\n",
    "    data = file.read()\n",
    "\n",
    "print(data[:100])"
   ]
  },
  {
   "cell_type": "markdown",
   "metadata": {},
   "source": [
    "This is why we need Pandas!\n",
    "<a id = 'overview'></a>\n",
    "## Pandas overview\n",
    "\n",
    "Pandas is a specialised package that allows us to work with databases using python.\n",
    "\n",
    "First we need to import the package"
   ]
  },
  {
   "cell_type": "code",
   "execution_count": null,
   "metadata": {},
   "outputs": [],
   "source": [
    "import pandas as pd"
   ]
  },
  {
   "cell_type": "markdown",
   "metadata": {},
   "source": [
    "Then, to read in a csv file we can use\n",
    "```python\n",
    "pd.read_csv('filepath/file.csv')\n",
    "```\n",
    "\n",
    "We are going to read in the `chickweight.csv` which is in our `data/` folder:"
   ]
  },
  {
   "cell_type": "code",
   "execution_count": null,
   "metadata": {
    "lines_to_next_cell": 2
   },
   "outputs": [],
   "source": [
    "chickweight = pd.read_csv('data/chickweight.csv')"
   ]
  },
  {
   "cell_type": "code",
   "execution_count": null,
   "metadata": {},
   "outputs": [],
   "source": [
    "chickweight"
   ]
  },
  {
   "cell_type": "markdown",
   "metadata": {},
   "source": [
    "Aside from making tables look prettier in your Jupyter notebook, there are many advantages for using the Pandas packages when working with data.\n",
    "\n",
    "<a id = 'benefits'></a>\n",
    "\n",
    "## The benefits of using Pandas (and Python)\n",
    "\n",
    "- ***Groupby - Split-apply-combine*** - The ability to chunk your data set into pieces, apply a function, and place it back together is the number one reason to use Pandas. \n",
    "- ***Cleaning*** - Pandas allows you to automate the cleaning of your datasets.\n",
    "- ***Merging dataframes*** - Gives you the full power of SQL for use with Python.\n",
    "- ***Time series*** - Pandas is amazing at handling time series operations. Converting to different periods, resampling, etc… are a brilliant feature.\n",
    "- ***Speed*** - When working with large datasets, it is much faster than tools like excel.\n",
    "<a id = 'wrangling'></a>\n",
    "\n",
    "## Data wrangling with Pandas\n",
    "\n",
    "In this set of notebooks, we will explain how to use pandas for data wrangling.\n",
    "\n",
    "***Data Wrangling*** - the process of transforming and mapping data, with the intent of making it more appropriate and valuable for a variety of downstream purposes such as analytics.\n",
    "\n",
    "However, eventually pandas will become a mere tool. Therefore in this notebook we will also practice doing a little bit of data analysis. \n",
    "\n",
    "To demonstrate Pandas' capabilities, we'll use the dataset about chickens."
   ]
  },
  {
   "cell_type": "code",
   "execution_count": null,
   "metadata": {},
   "outputs": [],
   "source": [
    "chickweight = (\n",
    "    pd.read_csv('data/chickweight.csv')\n",
    "    .rename(str.lower, axis='columns')\n",
    ")\n",
    "chickweight.head()"
   ]
  },
  {
   "cell_type": "markdown",
   "metadata": {},
   "source": [
    "<a id = 'exploring'></a>\n",
    "## Exploring the dataset\n",
    "\n",
    "In this section we'll highlight some tools for getting an initial understanding of the dataset\n",
    "\n",
    "Using exploration includes:\n",
    "\n",
    "* Checking the shape (`df.shape`) of the dataframe\n",
    "* The length (`len(df)`) of the dataframe\n",
    "* General information (`df.info()`) of the dataframe & columns\n",
    "* Averages of each numeric column (`df.describe()`)\n",
    "* The column names (`df.columns`)\n",
    "* Fetching the first/last or a sample of a few rows (`.head()` `df.sample()` `df.tail()`)\n",
    "* Selecting one (or more) columns (`df['column_name']`)\n",
    "* Fetching the unique values of a column (`df['column_name'].unique()`)\n",
    "* Summing the amount of unique values of a column (`df['column_name'].value_counts()`)"
   ]
  },
  {
   "cell_type": "code",
   "execution_count": null,
   "metadata": {
    "lines_to_next_cell": 2
   },
   "outputs": [],
   "source": [
    "chickweight.shape"
   ]
  },
  {
   "cell_type": "code",
   "execution_count": null,
   "metadata": {
    "lines_to_next_cell": 2
   },
   "outputs": [],
   "source": [
    "len(chickweight)"
   ]
  },
  {
   "cell_type": "code",
   "execution_count": null,
   "metadata": {
    "lines_to_next_cell": 2
   },
   "outputs": [],
   "source": [
    "chickweight.info()"
   ]
  },
  {
   "cell_type": "code",
   "execution_count": null,
   "metadata": {
    "lines_to_next_cell": 2
   },
   "outputs": [],
   "source": [
    "chickweight.describe()"
   ]
  },
  {
   "cell_type": "code",
   "execution_count": null,
   "metadata": {
    "lines_to_next_cell": 2
   },
   "outputs": [],
   "source": [
    "chickweight.columns"
   ]
  },
  {
   "cell_type": "code",
   "execution_count": null,
   "metadata": {
    "lines_to_next_cell": 2
   },
   "outputs": [],
   "source": [
    "chickweight.head()"
   ]
  },
  {
   "cell_type": "code",
   "execution_count": null,
   "metadata": {
    "lines_to_next_cell": 2
   },
   "outputs": [],
   "source": [
    "chickweight.tail()"
   ]
  },
  {
   "cell_type": "code",
   "execution_count": null,
   "metadata": {
    "lines_to_next_cell": 2
   },
   "outputs": [],
   "source": [
    "chickweight.sample(5)"
   ]
  },
  {
   "cell_type": "code",
   "execution_count": null,
   "metadata": {},
   "outputs": [],
   "source": [
    "chickweight.loc[[45]]"
   ]
  },
  {
   "cell_type": "code",
   "execution_count": null,
   "metadata": {},
   "outputs": [],
   "source": [
    "#anti-pattern\n",
    "\n",
    "chickweight.diet"
   ]
  },
  {
   "cell_type": "code",
   "execution_count": null,
   "metadata": {
    "lines_to_next_cell": 2
   },
   "outputs": [],
   "source": [
    "# better to select columns like this: \n",
    "chickweight['diet']"
   ]
  },
  {
   "cell_type": "code",
   "execution_count": null,
   "metadata": {
    "lines_to_next_cell": 2
   },
   "outputs": [],
   "source": [
    "chickweight['diet'].unique()"
   ]
  },
  {
   "cell_type": "code",
   "execution_count": null,
   "metadata": {},
   "outputs": [],
   "source": [
    "chickweight['diet'].value_counts()"
   ]
  },
  {
   "cell_type": "markdown",
   "metadata": {},
   "source": [
    "<a id = 'ex-explore-data'></a>\n",
    "## <mark>Exercise: Explore a dataset</mark>\n",
    "Investigate the `weight` and `time` columns of the dataframe.\n",
    "\n",
    "Here are some questions you could answer:\n",
    "\n",
    "1. How many different unique values for `time` are there? What do you think time represents in this dataframe?"
   ]
  },
  {
   "cell_type": "code",
   "execution_count": null,
   "metadata": {},
   "outputs": [],
   "source": []
  },
  {
   "cell_type": "markdown",
   "metadata": {},
   "source": [
    "2. What are the min & max of the time and weight column?"
   ]
  },
  {
   "cell_type": "code",
   "execution_count": null,
   "metadata": {
    "lines_to_next_cell": 2
   },
   "outputs": [],
   "source": []
  },
  {
   "cell_type": "markdown",
   "metadata": {},
   "source": [
    "3. What is the most common weight of a chicken?"
   ]
  },
  {
   "cell_type": "code",
   "execution_count": null,
   "metadata": {},
   "outputs": [],
   "source": []
  },
  {
   "cell_type": "markdown",
   "metadata": {},
   "source": [
    "<a id = 'analysis'></a>\n",
    "## Analysis\n",
    "\n",
    "### What analysis could we do? \n",
    "\n",
    "<img src=\"images/chick.png\" width=\"240\" height=\"240\" align=\"center\"/>\n",
    "\n",
    "Imagine that we are a farm and we have this dataset available.\n",
    "\n",
    "Now we have a feel for the dataset, what would we do with it?"
   ]
  },
  {
   "cell_type": "code",
   "execution_count": null,
   "metadata": {
    "lines_to_next_cell": 2
   },
   "outputs": [],
   "source": [
    "chickweight.head()"
   ]
  },
  {
   "cell_type": "markdown",
   "metadata": {},
   "source": [
    "### Potential areas for analysis:\n",
    "\n",
    "Some questions we might want to answer are:"
   ]
  },
  {
   "cell_type": "raw",
   "metadata": {},
   "source": [
    "1. Which diet is best for our chickens?\n",
    "2. How quickly do our chickens grow over time?\n",
    "3. Which chickens are the best growers?\n",
    "4. Can we predict how much a chicken will grow depending on diet and starting weight?"
   ]
  },
  {
   "cell_type": "markdown",
   "metadata": {},
   "source": [
    "The main use case we will want to focus on is to figure out which diet is best, but it is good to think about some of the other use cases. "
   ]
  }
 ],
 "metadata": {
  "jupytext": {
   "encoding": "# -*- coding: utf-8 -*-",
   "formats": "///ipynb,scripts//py:percent"
  },
  "kernelspec": {
   "display_name": "Python 3",
   "language": "python",
   "name": "python3"
  },
  "language_info": {
   "codemirror_mode": {
    "name": "ipython",
    "version": 3
   },
   "file_extension": ".py",
   "mimetype": "text/x-python",
   "name": "python",
   "nbconvert_exporter": "python",
   "pygments_lexer": "ipython3",
   "version": "3.8.5"
  }
 },
 "nbformat": 4,
 "nbformat_minor": 4
}
