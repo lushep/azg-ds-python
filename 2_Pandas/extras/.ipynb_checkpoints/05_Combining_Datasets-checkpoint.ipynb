{
 "cells": [
  {
   "cell_type": "markdown",
   "metadata": {},
   "source": [
    "# Combining Datasets\n",
    "\n",
    "In this notebook we'll ways to combine datasets: concatenating, merging and joining.\n",
    "\n",
    "- [Concatenating datasets](#c)\n",
    "    - <mark>[Exercise: Concatenating](#e0) </mark>\n",
    "- [Merging and Joining datasets](#mj)\n",
    "    - <mark>[Assignment](#e1) </mark>\n",
    "\n",
    "<a id='c'></a>\n",
    "## Concatenating datasets\n",
    "\n",
    "This time, let's imagine we didn't recieve the `chickweight` dataset. Instead we recieved four separate datasets, one for each diet."
   ]
  },
  {
   "cell_type": "code",
   "execution_count": null,
   "metadata": {},
   "outputs": [],
   "source": [
    "import pandas as pd"
   ]
  },
  {
   "cell_type": "code",
   "execution_count": null,
   "metadata": {},
   "outputs": [],
   "source": [
    "diet_1 = pd.read_csv('../data/diet_1.csv')\n",
    "diet_2 = pd.read_csv('../data/diet_2.csv')\n",
    "diet_3 = pd.read_csv('../data/diet_3.csv')\n",
    "diet_4 = pd.read_csv('../data/diet_4.csv')"
   ]
  },
  {
   "cell_type": "code",
   "execution_count": null,
   "metadata": {},
   "outputs": [],
   "source": [
    "diet_1"
   ]
  },
  {
   "cell_type": "markdown",
   "metadata": {},
   "source": [
    "We could recreate the `chickweight` dataset by vertically stacking these datasets on top of one another to. \n",
    "\n",
    "We can use the `pd.concat()` method to do this."
   ]
  },
  {
   "cell_type": "code",
   "execution_count": null,
   "metadata": {},
   "outputs": [],
   "source": [
    "chickweight = pd.concat([diet_1, diet_2, diet_3, diet_4])\n",
    "chickweight"
   ]
  },
  {
   "cell_type": "code",
   "execution_count": null,
   "metadata": {},
   "outputs": [],
   "source": []
  },
  {
   "cell_type": "markdown",
   "metadata": {},
   "source": [
    "<a id='e0'></a>\n",
    "## <mark> Exercise: Concatenating </mark>\n",
    "\n",
    "1. We nearly have our original dataset, but the indexes seem off. See if you can find a solution from the concatenation [documentation](https://pandas.pydata.org/pandas-docs/stable/reference/api/pandas.concat.html)"
   ]
  },
  {
   "cell_type": "code",
   "execution_count": null,
   "metadata": {},
   "outputs": [],
   "source": []
  },
  {
   "cell_type": "markdown",
   "metadata": {},
   "source": [
    "2. Concatenate two `chickweight` dataframes together vertically."
   ]
  },
  {
   "cell_type": "code",
   "execution_count": null,
   "metadata": {},
   "outputs": [],
   "source": []
  },
  {
   "cell_type": "markdown",
   "metadata": {},
   "source": [
    "***Bonus***: use the pandas concat documentation (e.g. link above) to read about the axis argument. We have been concatenating dataframes vertically so far, can you work out how to concatenate dataframes horizontally?\n",
    "\n",
    "3. Concatenate two `chickweight` dataframes together horizontally. "
   ]
  },
  {
   "cell_type": "code",
   "execution_count": null,
   "metadata": {},
   "outputs": [],
   "source": []
  },
  {
   "cell_type": "markdown",
   "metadata": {},
   "source": [
    "4. Concatenate `diet_1` and `diet_2` together horizontally. Why doe we get the missing `NaN` values?"
   ]
  },
  {
   "cell_type": "code",
   "execution_count": null,
   "metadata": {},
   "outputs": [],
   "source": []
  },
  {
   "cell_type": "markdown",
   "metadata": {},
   "source": [
    "<a id='mj'></a>\n",
    "## Merging and Joining Datasets \n",
    "\n",
    "Let's read in the original chickweight dataset again"
   ]
  },
  {
   "cell_type": "code",
   "execution_count": null,
   "metadata": {},
   "outputs": [],
   "source": [
    "chickweight = (\n",
    "    pd.read_csv('data/chickweight.csv') \n",
    "      .rename(str.lower, axis='columns')\n",
    ")\n",
    "chickweight"
   ]
  },
  {
   "cell_type": "markdown",
   "metadata": {},
   "source": [
    "Let's imagine we want to concatenate information about the mean weight per diet for the chicks."
   ]
  },
  {
   "cell_type": "code",
   "execution_count": null,
   "metadata": {},
   "outputs": [],
   "source": [
    "import numpy as np\n",
    "\n",
    "mean_weight_per_diet = (\n",
    "    chickweight\n",
    "    .groupby('diet')\n",
    "    .agg(mean_weight = pd.NamedAgg(column='weight', aggfunc=np.mean))\n",
    ")\n",
    "\n",
    "mean_weight_per_diet"
   ]
  },
  {
   "cell_type": "markdown",
   "metadata": {},
   "source": [
    "If we wanted to concatenate this information to our originial chickweight dataframe we'd have a problem. "
   ]
  },
  {
   "cell_type": "code",
   "execution_count": null,
   "metadata": {},
   "outputs": [],
   "source": [
    "mean_weight_per_diet.shape"
   ]
  },
  {
   "cell_type": "code",
   "execution_count": null,
   "metadata": {
    "lines_to_next_cell": 2
   },
   "outputs": [],
   "source": [
    "chickweight.shape"
   ]
  },
  {
   "cell_type": "code",
   "execution_count": null,
   "metadata": {},
   "outputs": [],
   "source": [
    "pd.concat([chickweight,mean_weight_per_diet], axis=1)"
   ]
  },
  {
   "cell_type": "markdown",
   "metadata": {},
   "source": [
    "This is where the **merge** and **join** methods come in. They allow us to share the relevant information from separate datasets.\n",
    "\n",
    "<img src=\"../images/join.png\" width=\"240\" height=\"240\" align=\"center\"/>\n",
    "\n",
    "If we specify what columns the dataframes share we can merge them"
   ]
  },
  {
   "cell_type": "code",
   "execution_count": null,
   "metadata": {},
   "outputs": [],
   "source": [
    "(\n",
    "    chickweight\n",
    "    .merge(mean_weight_per_diet, on=\"diet\")\n",
    ")"
   ]
  },
  {
   "cell_type": "markdown",
   "metadata": {},
   "source": [
    "If the dataframes share the same index we can use these as keys to join the dataframes"
   ]
  },
  {
   "cell_type": "code",
   "execution_count": null,
   "metadata": {},
   "outputs": [],
   "source": [
    "mean_weight_per_diet.head()"
   ]
  },
  {
   "cell_type": "code",
   "execution_count": null,
   "metadata": {},
   "outputs": [],
   "source": [
    "chickweight.head()"
   ]
  },
  {
   "cell_type": "code",
   "execution_count": null,
   "metadata": {},
   "outputs": [],
   "source": [
    "\n",
    "(\n",
    "    chickweight\n",
    "    .set_index('diet')\n",
    "    .head()\n",
    ")"
   ]
  },
  {
   "cell_type": "code",
   "execution_count": null,
   "metadata": {},
   "outputs": [],
   "source": [
    "(\n",
    "    chickweight\n",
    "    .set_index(\"diet\")\n",
    "    .join(mean_weight_per_diet)\n",
    ")"
   ]
  },
  {
   "cell_type": "markdown",
   "metadata": {},
   "source": [
    "You may notice that there is overlap in the functionality of `.join()` and `.merge()`. The difference is minor;\n",
    "\n",
    "- **join** will merge based on the indices as base behavior.\n",
    "- **merge** will join based on overlapping column names as base behavior.\n",
    "\n",
    "In fact, if both dataframes have anonymous indices, pandas will detect which columns to merge on automatically."
   ]
  },
  {
   "cell_type": "code",
   "execution_count": null,
   "metadata": {},
   "outputs": [],
   "source": [
    "mean_weight_per_diet.reset_index()"
   ]
  },
  {
   "cell_type": "code",
   "execution_count": null,
   "metadata": {},
   "outputs": [],
   "source": [
    "chickweight.head(4)"
   ]
  },
  {
   "cell_type": "code",
   "execution_count": null,
   "metadata": {},
   "outputs": [],
   "source": [
    "(\n",
    "    chickweight\n",
    "    .merge(mean_weight_per_diet.reset_index())\n",
    "\n",
    ")"
   ]
  },
  {
   "cell_type": "markdown",
   "metadata": {},
   "source": [
    "**Matching data... but different column names**\n",
    "\n",
    "Suppose that we have an extra dataframe with some information we'd like to get joined to our original dataframe."
   ]
  },
  {
   "cell_type": "code",
   "execution_count": null,
   "metadata": {},
   "outputs": [],
   "source": [
    "agg = (\n",
    "    chickweight\n",
    "    .groupby(['diet', 'time'])\n",
    "    .apply(lambda df: pd.Series({\n",
    "      \"weight\": df['weight'].mean(), \n",
    "      \"variance\": df['weight'].var()}))\n",
    "    .reset_index()\n",
    "    .rename(columns={\"time\": \"tijd\"})\n",
    ")\n",
    "\n",
    "agg.head(3)"
   ]
  },
  {
   "cell_type": "markdown",
   "metadata": {},
   "source": [
    "Look what happens if we just try to automatically merge these dataframes. WHy do we get this error?"
   ]
  },
  {
   "cell_type": "code",
   "execution_count": null,
   "metadata": {},
   "outputs": [],
   "source": [
    "chickweight.merge(agg)"
   ]
  },
  {
   "cell_type": "markdown",
   "metadata": {},
   "source": [
    "The information in the `diet` and `tijd` columns overlaps with our chickweight dataframe (`diet` and `tijd`), therefore we would like to merge on these columns (and not the weight columns - the weight column in `agg` is the mean weight per diet and time!)."
   ]
  },
  {
   "cell_type": "code",
   "execution_count": null,
   "metadata": {},
   "outputs": [],
   "source": [
    "chickweight.merge(agg, left_on=[\"diet\", \"time\"], right_on=[\"diet\", \"tijd\"])"
   ]
  },
  {
   "cell_type": "markdown",
   "metadata": {},
   "source": [
    "We can specify how to rename the two weight columns with the `suffixes` parameter."
   ]
  },
  {
   "cell_type": "code",
   "execution_count": null,
   "metadata": {},
   "outputs": [],
   "source": [
    "chickweight.merge(agg, left_on=[\"diet\", \"time\"], right_on=[\"diet\", \"tijd\"], suffixes=(\"\", \"_agg\"))"
   ]
  },
  {
   "cell_type": "code",
   "execution_count": null,
   "metadata": {},
   "outputs": [],
   "source": [
    "# the other way around\n",
    "df2 = agg.merge(chickweight, right_on=[\"diet\", \"time\"], left_on=[\"diet\", \"tijd\"], suffixes=(\"_agg\", \"\"))"
   ]
  },
  {
   "cell_type": "markdown",
   "metadata": {},
   "source": [
    "You can also use the `how` argument to control how the dataframes are merged.\n",
    "\n",
    "<img src=\"../images/sql-joins.png\" width=\"400\" align=\"center\"/>"
   ]
  },
  {
   "cell_type": "code",
   "execution_count": null,
   "metadata": {},
   "outputs": [],
   "source": [
    "chickweight.merge(agg, how=\"left\", left_on=[\"diet\", \"time\"], right_on=[\"diet\", \"tijd\"], suffixes=(\"\", \"_agg\"))"
   ]
  },
  {
   "cell_type": "markdown",
   "metadata": {},
   "source": [
    "Note that in this case, it might have been a better idea to instead make sure that the column names are correct *beforehand*, e.g."
   ]
  },
  {
   "cell_type": "code",
   "execution_count": null,
   "metadata": {},
   "outputs": [],
   "source": [
    "chickweight.merge(agg.rename({\"tijd\": \"time\"}, axis=\"columns\"), on=['diet', 'time'])"
   ]
  },
  {
   "cell_type": "markdown",
   "metadata": {},
   "source": [
    "<a id='e1'></a>\n",
    "## <mark> Assignment </mark>: Find the fattest chicken per diet\n",
    "\n",
    "1. Use the `.groupby()` method to find the max chick per diet.\n",
    "2. merge this information to the original chickweight dataset.\n",
    "3. Find the fattest chickwen per diet by identifying when the value in the weight column is equal to the value in your new column\n"
   ]
  },
  {
   "cell_type": "code",
   "execution_count": null,
   "metadata": {},
   "outputs": [],
   "source": []
  },
  {
   "cell_type": "code",
   "execution_count": null,
   "metadata": {},
   "outputs": [],
   "source": []
  }
 ],
 "metadata": {
  "jupytext": {
   "text_representation": {
    "extension": ".py",
    "format_name": "percent",
    "format_version": "1.3",
    "jupytext_version": "1.7.1"
   }
  },
  "kernelspec": {
   "display_name": "Python 3",
   "language": "python",
   "name": "python3"
  },
  "language_info": {
   "codemirror_mode": {
    "name": "ipython",
    "version": 3
   },
   "file_extension": ".py",
   "mimetype": "text/x-python",
   "name": "python",
   "nbconvert_exporter": "python",
   "pygments_lexer": "ipython3",
   "version": "3.8.5"
  }
 },
 "nbformat": 4,
 "nbformat_minor": 2
}
