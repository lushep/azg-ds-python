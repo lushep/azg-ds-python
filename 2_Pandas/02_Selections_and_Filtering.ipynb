{
 "cells": [
  {
   "cell_type": "markdown",
   "metadata": {},
   "source": [
    "# Selections and Filtering\n",
    "\n",
    "In this notebook we'll learn how to do selections and filtering with Pandas.\n",
    "\n",
    "- [Selections](#s)\n",
    "    - [Selecting the top/bottom](#tb)\n",
    "    - [Selecting columns](#c)\n",
    "    - [Selecting rows](#r)\n",
    "    - [Selecting rows and columns together](#rc)\n",
    "- [Filtering](#f)\n",
    "    - <mark>[Exercise: Selections and Filtering](#e0)</mark>\n",
    "- [Multiple Conditions](#m)\n",
    "    - <mark>[Exercise: Multiple Conditions](#e1)</mark>\n",
    "- [Sorting](#sort)\n",
    "    - <mark>[Exercise: Sorting](#e2)</mark>\n",
    "\n",
    "Let's load in the `chickweight` dataset again."
   ]
  },
  {
   "cell_type": "code",
   "execution_count": null,
   "metadata": {
    "lines_to_next_cell": 2
   },
   "outputs": [],
   "source": [
    "import pandas as pd"
   ]
  },
  {
   "cell_type": "code",
   "execution_count": null,
   "metadata": {},
   "outputs": [],
   "source": [
    "chickweight = (\n",
    "    pd.read_csv('data/chickweight.csv') \n",
    "      .rename(str.lower, axis='columns')\n",
    ")\n",
    "chickweight"
   ]
  },
  {
   "cell_type": "markdown",
   "metadata": {},
   "source": [
    "<a id='s'></a>\n",
    "## Selections\n",
    "\n",
    "Before we attempt to figure out the best diet for the chicks, let's investigate how to select different rows/columns. There are a few different approaches!\n",
    "\n",
    "<a id='tb'></a>\n",
    "### Selecting the top/bottom"
   ]
  },
  {
   "cell_type": "code",
   "execution_count": null,
   "metadata": {
    "lines_to_next_cell": 2
   },
   "outputs": [],
   "source": [
    "(\n",
    "    chickweight\n",
    "    .head(5)\n",
    ")"
   ]
  },
  {
   "cell_type": "code",
   "execution_count": null,
   "metadata": {
    "lines_to_next_cell": 2
   },
   "outputs": [],
   "source": [
    "(\n",
    "    chickweight\n",
    "    .tail(2)\n",
    ")"
   ]
  },
  {
   "cell_type": "code",
   "execution_count": null,
   "metadata": {},
   "outputs": [],
   "source": [
    "(\n",
    "    chickweight\n",
    "    .head(5)\n",
    "    .tail(2)\n",
    ")"
   ]
  },
  {
   "cell_type": "markdown",
   "metadata": {},
   "source": [
    "<a id='c'></a>\n",
    "### Selecting columns (Dataframes vs. Series)"
   ]
  },
  {
   "cell_type": "code",
   "execution_count": null,
   "metadata": {},
   "outputs": [],
   "source": [
    "chickweight['weight'].head() "
   ]
  },
  {
   "cell_type": "markdown",
   "metadata": {},
   "source": [
    "Note that the output of this next command is a little bit different."
   ]
  },
  {
   "cell_type": "code",
   "execution_count": null,
   "metadata": {},
   "outputs": [],
   "source": [
    "chickweight[['weight']].head()"
   ]
  },
  {
   "cell_type": "markdown",
   "metadata": {},
   "source": [
    "There is a subtle difference at work here. \n",
    "\n",
    "- `chickweight[['weight']]` returns a table with one column (`pd.DataFrame`)\n",
    "- `chickweight['weight']` selects the column from the table (`pd.Series`)\n",
    "\n",
    "As we'll see, a lot of techniques that work on dataframes will also work on series objects, but not all of them!\n",
    "\n",
    "Using two \"square brackets\" means we can select more columns"
   ]
  },
  {
   "cell_type": "code",
   "execution_count": null,
   "metadata": {},
   "outputs": [],
   "source": [
    "chickweight[['weight', 'time']].head()"
   ]
  },
  {
   "cell_type": "markdown",
   "metadata": {},
   "source": [
    "<a id='rc'></a>\n",
    "### Selecting rows & columns together\n",
    "\n",
    "To select rows and columns, we can use the `.loc[]` method.\n",
    "\n",
    "For selection, it typically uses the following format.\n",
    "\n",
    "`.loc[[rows], [columns]]` \n",
    "\n",
    "In our case, we should specify the column names we want, e.g. `['time','chick']`\n",
    "\n",
    "As we don't have row names, we can use indexing to select the rows, e.g.\n",
    "\n",
    " - if you use ` : `, it will select all rows\n",
    " \n",
    " - if you use `:50`, it will select the first 50 rows\n",
    " \n",
    " - if you use `::2`, it will select every other row\n",
    " \n",
    "Note that the `.loc`/`i.loc` methods is a tricky and inconsistent thing to remember (apologies for that). The main thing to remember is that `.loc[]` requires **square** brackets."
   ]
  },
  {
   "cell_type": "code",
   "execution_count": null,
   "metadata": {
    "lines_to_next_cell": 2
   },
   "outputs": [],
   "source": [
    "chickweight.loc[ : , ['time', 'chick']]"
   ]
  },
  {
   "cell_type": "code",
   "execution_count": null,
   "metadata": {
    "lines_to_next_cell": 2
   },
   "outputs": [],
   "source": [
    "chickweight.loc[10:15, ['time', 'chick']]"
   ]
  },
  {
   "cell_type": "code",
   "execution_count": null,
   "metadata": {},
   "outputs": [],
   "source": [
    "(\n",
    "    chickweight\n",
    "    .loc[10:15, ['time', 'chick']]\n",
    ")"
   ]
  },
  {
   "cell_type": "markdown",
   "metadata": {},
   "source": [
    "#### Lesson 1\n",
    "\n",
    "You'll notice that whenever we use `<dataframe>.<method>` that the output of this operation is yet again a dataframe.\n",
    "\n",
    "This means that we can chain commands together to form the `-then->` style of programming. \n",
    "\n",
    "<a id='f'></a>\n",
    "## Filtering\n",
    "\n",
    "We saw previously how to check which parts of the dataframe/series met conditions"
   ]
  },
  {
   "cell_type": "code",
   "execution_count": null,
   "metadata": {
    "lines_to_next_cell": 2
   },
   "outputs": [],
   "source": [
    "(\n",
    "    chickweight < 3\n",
    "    \n",
    ").head()"
   ]
  },
  {
   "cell_type": "code",
   "execution_count": null,
   "metadata": {},
   "outputs": [],
   "source": [
    "(\n",
    "    chickweight['chick'] == 1\n",
    ")"
   ]
  },
  {
   "cell_type": "code",
   "execution_count": null,
   "metadata": {},
   "outputs": [],
   "source": [
    "(\n",
    "    chickweight\n",
    "    [ chickweight['chick'] == 1 ]\n",
    ")"
   ]
  },
  {
   "cell_type": "markdown",
   "metadata": {},
   "source": [
    "We can use these results to filter our dataframe"
   ]
  },
  {
   "cell_type": "code",
   "execution_count": null,
   "metadata": {
    "lines_to_next_cell": 2
   },
   "outputs": [],
   "source": [
    "(\n",
    "    chickweight \n",
    "    [chickweight['chick'] == 1] \n",
    "    .head()\n",
    ")"
   ]
  },
  {
   "cell_type": "code",
   "execution_count": null,
   "metadata": {},
   "outputs": [],
   "source": [
    "(\n",
    "    chickweight  \n",
    "    [chickweight['chick'] == 1]\n",
    "    [chickweight['time'] < 10] \n",
    ")"
   ]
  },
  {
   "cell_type": "markdown",
   "metadata": {},
   "source": [
    "This is the correct output but we're getting a warning, and we should never ignore warnings!\n",
    "\n",
    "This comes from the fact that the below creates a boolean series:"
   ]
  },
  {
   "cell_type": "code",
   "execution_count": null,
   "metadata": {},
   "outputs": [],
   "source": [
    "chickweight['time'] < 10"
   ]
  },
  {
   "cell_type": "code",
   "execution_count": null,
   "metadata": {},
   "outputs": [],
   "source": [
    "len(chickweight['time'] < 10)"
   ]
  },
  {
   "cell_type": "markdown",
   "metadata": {},
   "source": [
    "...which is the **same length as the original dataframe:** "
   ]
  },
  {
   "cell_type": "code",
   "execution_count": null,
   "metadata": {},
   "outputs": [],
   "source": [
    "len(chickweight)"
   ]
  },
  {
   "cell_type": "markdown",
   "metadata": {},
   "source": [
    "...yet because it is the **second filter** being used, it is actually being **applied to the new dataframe**, filtered in step one: "
   ]
  },
  {
   "cell_type": "code",
   "execution_count": null,
   "metadata": {},
   "outputs": [],
   "source": [
    "len(\n",
    "    chickweight\n",
    "    [chickweight['chick']==1]\n",
    ")"
   ]
  },
  {
   "cell_type": "markdown",
   "metadata": {},
   "source": [
    "***Explicit is better than implicit.***\n",
    "\n",
    "The safest approach for filtering is to use the `.loc()` method and lambda functions"
   ]
  },
  {
   "cell_type": "code",
   "execution_count": null,
   "metadata": {
    "lines_to_next_cell": 2
   },
   "outputs": [],
   "source": [
    "(\n",
    "    chickweight \n",
    "    .loc[lambda df: df['chick'] == 1]\n",
    "    .head()\n",
    ")"
   ]
  },
  {
   "cell_type": "code",
   "execution_count": null,
   "metadata": {},
   "outputs": [],
   "source": [
    "(\n",
    "    chickweight\n",
    "    .loc[lambda df: df['chick'] == 1]\n",
    "    .loc[lambda df: df['time'] < 10]\n",
    ")"
   ]
  },
  {
   "cell_type": "markdown",
   "metadata": {},
   "source": [
    "#### Lesson 2\n",
    "\n",
    "We are using a `lambda` function here to describe how we are using the `.loc` command. \n",
    "\n",
    "The `.loc` tells us **what** we are doing (filtering) and the function tells us **how**."
   ]
  },
  {
   "cell_type": "code",
   "execution_count": null,
   "metadata": {
    "lines_to_next_cell": 2
   },
   "outputs": [],
   "source": [
    "(\n",
    "    chickweight\n",
    "    .loc[:, ['weight', 'time']]\n",
    "    .loc[lambda df: df['weight'] < 50] \n",
    ")"
   ]
  },
  {
   "cell_type": "markdown",
   "metadata": {},
   "source": [
    "<a id='e0'></a>\n",
    "## <mark> Exercise: Selections and Filtering </mark>\n",
    "1. Get the weight column as a\n",
    "\n",
    "    a) Series\n",
    "\n",
    "    b) Dataframe\n",
    "\n",
    "    c) List\n",
    "\n"
   ]
  },
  {
   "cell_type": "code",
   "execution_count": null,
   "metadata": {
    "lines_to_next_cell": 2
   },
   "outputs": [],
   "source": []
  },
  {
   "cell_type": "markdown",
   "metadata": {},
   "source": [
    "2. Select only \n",
    "\n",
    "    a) The first 100 rows of data\n",
    "\n",
    "    b) Rows 50 to 100 of the data\n",
    "    \n",
    "    c) The chick and weight columns\n",
    "\n",
    "    c) Rows 50 to 100 of the data of the chick and weight columns"
   ]
  },
  {
   "cell_type": "code",
   "execution_count": null,
   "metadata": {},
   "outputs": [],
   "source": []
  },
  {
   "cell_type": "markdown",
   "metadata": {},
   "source": [
    "3. Filter the data \n",
    "\n",
    "    a) For when weight is less than 60\n",
    "\n",
    "    b) For Chick number 15\n",
    "\n",
    "    c) For when weight is less than 60 and time is equal to 2\n",
    "\n",
    "    d) For when weight is less than 60 and time is equal to 2, but only the weight and time columns!\n",
    "\n"
   ]
  },
  {
   "cell_type": "code",
   "execution_count": null,
   "metadata": {},
   "outputs": [],
   "source": []
  },
  {
   "cell_type": "markdown",
   "metadata": {},
   "source": [
    "**BONUS**:\n",
    "\n",
    "1. Calculate the average Chicken weight"
   ]
  },
  {
   "cell_type": "code",
   "execution_count": null,
   "metadata": {},
   "outputs": [],
   "source": []
  },
  {
   "cell_type": "markdown",
   "metadata": {},
   "source": [
    "2. Calculate the average Chicken weight at time 10"
   ]
  },
  {
   "cell_type": "code",
   "execution_count": null,
   "metadata": {
    "lines_to_next_cell": 2
   },
   "outputs": [],
   "source": []
  },
  {
   "cell_type": "markdown",
   "metadata": {},
   "source": [
    "*Any other data science questions you can think of?*"
   ]
  },
  {
   "cell_type": "markdown",
   "metadata": {},
   "source": [
    "<a id='m'></a>\n",
    "## Multiple conditions\n",
    "\n",
    "\n",
    "We're now going to look at how we can use multiple conditions within the same line. Aside from being more efficient to run, it is also useful as we won't need to worry about previous filters."
   ]
  },
  {
   "cell_type": "code",
   "execution_count": null,
   "metadata": {},
   "outputs": [],
   "source": [
    "(\n",
    "    chickweight\n",
    "    .loc[lambda df: (df['chick'] == 1) & (df['time'] < 10)]\n",
    ")"
   ]
  },
  {
   "cell_type": "markdown",
   "metadata": {},
   "source": [
    "***Note the need for parentheses and the use of `&` rather than `and`?***\n",
    "\n",
    "Firstly, we need **parentheses** due to the order of operations, `&` always performs before comparisons like `==`, `<`, `>=` etc.\n",
    "\n",
    "**Now for `&` vs `and`...** before we saw the use of `and` which tests whether both expressions we have written are logically True. Eg:"
   ]
  },
  {
   "cell_type": "code",
   "execution_count": null,
   "metadata": {},
   "outputs": [],
   "source": [
    "# checks if 7 is equal to 7 and if 6 is equal to 6 first\n",
    "# both are True so the output is True\n",
    "print(7 == 7 and 6 == 6) \n",
    "\n",
    "# checks if 7 is NOT equal to 7 and if 6 is equal to 6 first\n",
    "# since the first is False and the second True, the output is False\n",
    "print(7 != 7 and 6 == 6)\n",
    "\n",
    "# checks if 7 is equal to 7 and if 6 is NOT equal to 6 first\n",
    "# since the first is True and the second False, the output is False\n",
    "print(7 == 7 and 6 != 6)"
   ]
  },
  {
   "cell_type": "markdown",
   "metadata": {},
   "source": [
    "When we create filters in dataframes, we're actually creating a series of boolean values for each row in the dataframe. If we apply the `and` operator, it attempts to return a single Boolean logic value for the whole series."
   ]
  },
  {
   "cell_type": "code",
   "execution_count": null,
   "metadata": {},
   "outputs": [],
   "source": [
    "chickweight['chick'] == 1"
   ]
  },
  {
   "cell_type": "code",
   "execution_count": null,
   "metadata": {},
   "outputs": [],
   "source": [
    "#error\n",
    "(\n",
    "    chickweight\n",
    "    .loc[lambda df: (df['chick'] == 1) and (df['weight'] < 50)]\n",
    "    .head(10)\n",
    ")"
   ]
  },
  {
   "cell_type": "markdown",
   "metadata": {},
   "source": [
    "Therefore we now need to use `&`, the bitwise AND operation, so that we can compare each `True`/`False` in every row with multiple filters."
   ]
  },
  {
   "cell_type": "code",
   "execution_count": null,
   "metadata": {
    "lines_to_next_cell": 2
   },
   "outputs": [],
   "source": [
    "(\n",
    "    chickweight\n",
    "    .loc[lambda df: (df['chick'] == 1) & (df['weight'] < 50)]\n",
    "    .head(10)\n",
    ")"
   ]
  },
  {
   "cell_type": "markdown",
   "metadata": {},
   "source": [
    "**The `&` (ampersand) is used for to find when two rows equate to true:**"
   ]
  },
  {
   "cell_type": "markdown",
   "metadata": {},
   "source": [
    "![](images/filt-and.png)"
   ]
  },
  {
   "cell_type": "code",
   "execution_count": null,
   "metadata": {},
   "outputs": [],
   "source": [
    "(\n",
    "    chickweight\n",
    "    .loc[lambda df: (df['chick'] == 1) | (df['weight'] < 50)]\n",
    "    .tail(10)\n",
    ")"
   ]
  },
  {
   "cell_type": "markdown",
   "metadata": {},
   "source": [
    "**The `|` (pipe) is used for to find when AT LEAST ONE row equates to true:**"
   ]
  },
  {
   "cell_type": "markdown",
   "metadata": {},
   "source": [
    "![](images/filt-or.png)"
   ]
  },
  {
   "cell_type": "code",
   "execution_count": null,
   "metadata": {},
   "outputs": [],
   "source": [
    "(\n",
    "    chickweight\n",
    "    .loc[lambda df: (df['chick'] == 1) ^ (df['weight'] < 50)]\n",
    "    .tail(10)\n",
    ")"
   ]
  },
  {
   "cell_type": "markdown",
   "metadata": {},
   "source": [
    "**The `^` (hat) is used for to find when only one row equates to true BUT NOT BOTH:**"
   ]
  },
  {
   "cell_type": "markdown",
   "metadata": {},
   "source": [
    "![](images/filt-hat.png)"
   ]
  },
  {
   "cell_type": "markdown",
   "metadata": {},
   "source": [
    "<a id='e1'></a>\n",
    "## <mark> Exercise: Multiple conditions </mark>\n",
    "\n",
    "Select only the part of chickweight where:\n",
    "\n",
    "1. **weight** is above 50 but below 100\n",
    "2. **diet** is either 1 or 2 \n",
    "3. **diet** is either 1 or 3, but only show the `weight` and `diet` colmuns"
   ]
  },
  {
   "cell_type": "code",
   "execution_count": null,
   "metadata": {},
   "outputs": [],
   "source": []
  },
  {
   "cell_type": "markdown",
   "metadata": {},
   "source": [
    "<a id='sort' ></a>\n",
    "## Sorting in Pandas\n",
    "\n",
    "Sort is super useful, but keep in mind that the order in which you run the commands matter!"
   ]
  },
  {
   "cell_type": "code",
   "execution_count": null,
   "metadata": {
    "lines_to_next_cell": 2
   },
   "outputs": [],
   "source": [
    "(\n",
    "    chickweight\n",
    "    .sort_values('weight')\n",
    "    .head(20)\n",
    ")"
   ]
  },
  {
   "cell_type": "code",
   "execution_count": null,
   "metadata": {
    "lines_to_next_cell": 2
   },
   "outputs": [],
   "source": [
    "(\n",
    "    chickweight\n",
    "    .sort_values(by='weight', ascending=False)\n",
    "    .head(20)\n",
    ")"
   ]
  },
  {
   "cell_type": "code",
   "execution_count": null,
   "metadata": {},
   "outputs": [],
   "source": [
    "(\n",
    "    chickweight\n",
    "    .sort_values(by=['weight', 'chick'])\n",
    "    .head(3)\n",
    ")"
   ]
  },
  {
   "cell_type": "markdown",
   "metadata": {},
   "source": [
    "<a id='e2'></a>\n",
    "## <mark>Exercise: Sorting</mark>\n",
    "\n",
    "Sort the data by weight (ascending) and by chick (descending). Look at the [documentation](https://pandas.pydata.org/pandas-docs/stable/reference/api/pandas.DataFrame.sort_values.html) to see what type of inputs the `ascending` parameter takes."
   ]
  },
  {
   "cell_type": "code",
   "execution_count": null,
   "metadata": {
    "lines_to_next_cell": 3
   },
   "outputs": [],
   "source": []
  },
  {
   "cell_type": "markdown",
   "metadata": {},
   "source": [
    "Afterwards, reset the index of the resulting dataframe. Look at the [documentation](https://pandas.pydata.org/pandas-docs/stable/reference/api/pandas.DataFrame.sort_values.html) to check which parameter you'll have to set to do this."
   ]
  },
  {
   "cell_type": "code",
   "execution_count": null,
   "metadata": {},
   "outputs": [],
   "source": []
  }
 ],
 "metadata": {
  "jupytext": {
   "formats": "///ipynb,scripts//py:percent"
  },
  "kernelspec": {
   "display_name": "Python 3",
   "language": "python",
   "name": "python3"
  },
  "language_info": {
   "codemirror_mode": {
    "name": "ipython",
    "version": 3
   },
   "file_extension": ".py",
   "mimetype": "text/x-python",
   "name": "python",
   "nbconvert_exporter": "python",
   "pygments_lexer": "ipython3",
   "version": "3.8.5"
  }
 },
 "nbformat": 4,
 "nbformat_minor": 4
}
