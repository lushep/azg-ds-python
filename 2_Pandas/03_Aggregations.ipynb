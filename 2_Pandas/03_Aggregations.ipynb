{
 "cells": [
  {
   "cell_type": "markdown",
   "metadata": {},
   "source": [
    "# Aggregation in Pandas\n",
    "\n",
    "In this section we are going to learn all about aggregating with `df.groupby()`. We will be covering:\n",
    "\n",
    "* [Grouped Aggregation in Pandas](#grouped-agg)\n",
    "* [Level 1: `df.groupby()`](#groupby)\n",
    "* [Level 2: Multiple aggregations with `.agg()`](#mult-aggs)\n",
    "* [Level 3: Named aggregation](#named-agg)\n",
    "* [<mark>Exercise: Using aggregations</mark>](#ex-aggs)\n",
    "\n",
    "But before we do anything! Let's import pandas and read our data in again, since we're working in a new notebook."
   ]
  },
  {
   "cell_type": "code",
   "execution_count": null,
   "metadata": {},
   "outputs": [],
   "source": [
    "import pandas as pd\n",
    "\n",
    "chickweight = (\n",
    "    pd.read_csv('data/chickweight.csv')\n",
    "    .rename(str.lower, axis='columns')\n",
    ")"
   ]
  },
  {
   "cell_type": "markdown",
   "metadata": {},
   "source": [
    "We can get statistics for our data quite easily using methods like:\n",
    "\n",
    "* `df.describe()`: gives a selection of statistics for each numeric field\n",
    "* `df.mean()`: calculates the mean of each column or row\n",
    "* `df.max()`: calculates the max of each column or row\n",
    "* `df.min()`: calculates the min of each column or row"
   ]
  },
  {
   "cell_type": "code",
   "execution_count": null,
   "metadata": {
    "lines_to_next_cell": 2
   },
   "outputs": [],
   "source": [
    "chickweight.describe()"
   ]
  },
  {
   "cell_type": "code",
   "execution_count": null,
   "metadata": {},
   "outputs": [],
   "source": [
    "print(\n",
    "    chickweight.mean(),\n",
    "    chickweight.max(),\n",
    "    chickweight.min(),\n",
    "    sep = '\\n\\n'\n",
    ")"
   ]
  },
  {
   "cell_type": "markdown",
   "metadata": {},
   "source": [
    "<a id = 'grouped-agg'></a>\n",
    "## Grouped Aggregation in Pandas\n",
    "\n",
    "However, what if we want data about specific groups of the dataset, e.g. the mean weight for diet 2. In that case we need to ***aggregate*** our data.\n",
    "\n",
    "Aggregation is the act of splitting up your original dataset to calculate statistics on sub-dataframes.\n",
    "\n",
    "<img src=\"images/split-groupby-combine.png\" width=\"440\" height=\"440\" align=\"center\"/>\n",
    "\n",
    "There are a few ways to do this in pandas:. \n",
    "\n",
    "<a id = 'groupby'></a>\n",
    "## Level 1: Single aggregations\n",
    "\n",
    "We can easily see what the mean weight is overall in our dataframe:"
   ]
  },
  {
   "cell_type": "code",
   "execution_count": null,
   "metadata": {},
   "outputs": [],
   "source": [
    "(\n",
    "    chickweight\n",
    "    ['weight']\n",
    "    .mean()\n",
    ")"
   ]
  },
  {
   "cell_type": "markdown",
   "metadata": {},
   "source": [
    "But what if we want to see what the mean weight is depending on the diet the chicken was on?\n",
    "\n",
    "The we first need to perform a `.groupby()` in order to split the data first into those different diets."
   ]
  },
  {
   "cell_type": "code",
   "execution_count": null,
   "metadata": {},
   "outputs": [],
   "source": [
    "(\n",
    "    chickweight\n",
    "    .groupby('diet')\n",
    "    ['weight']\n",
    "    .mean()\n",
    ")"
   ]
  },
  {
   "cell_type": "markdown",
   "metadata": {},
   "source": [
    "### So what is `.groupby()`?\n",
    "\n",
    "This is another type of object:"
   ]
  },
  {
   "cell_type": "code",
   "execution_count": null,
   "metadata": {},
   "outputs": [],
   "source": [
    "chickweight.groupby('diet')"
   ]
  },
  {
   "cell_type": "markdown",
   "metadata": {},
   "source": [
    "A groupby object is esentially a collection of dataframes. The idea is that later we can calculate something per dataframe."
   ]
  },
  {
   "cell_type": "code",
   "execution_count": null,
   "metadata": {
    "lines_to_next_cell": 2
   },
   "outputs": [],
   "source": [
    "list(chickweight\n",
    "    .groupby('diet')\n",
    ")"
   ]
  },
  {
   "cell_type": "code",
   "execution_count": null,
   "metadata": {},
   "outputs": [],
   "source": [
    "for diet_name, diet_df in chickweight.groupby('diet'):\n",
    "    display(diet_df.head(3))"
   ]
  },
  {
   "cell_type": "markdown",
   "metadata": {},
   "source": [
    "From here we can look at a collection of statistics or information on the remaining numerical columns like:\n",
    "\n",
    "* `.mean()`\n",
    "* `.sum()`\n",
    "* `.min()` and `.max()`\n",
    "* `.first()`\n",
    "* `.var()`\n",
    "\n",
    "**Try them out. Do you understand each one?**"
   ]
  },
  {
   "cell_type": "code",
   "execution_count": null,
   "metadata": {},
   "outputs": [],
   "source": []
  },
  {
   "cell_type": "code",
   "execution_count": null,
   "metadata": {
    "lines_to_next_cell": 2
   },
   "outputs": [],
   "source": [
    "# .first() retrieves the first entry in each group\n",
    "(\n",
    "    chickweight\n",
    "    .sort_values(['chick', 'time'])\n",
    "    .groupby('diet')\n",
    "    .first()\n",
    ")"
   ]
  },
  {
   "cell_type": "code",
   "execution_count": null,
   "metadata": {},
   "outputs": [],
   "source": [
    "# Look at how this output differs if the dataframe is sorted in a different way prior to the groupby!\n",
    "(\n",
    "    chickweight\n",
    "    .sort_values('weight', ascending=False)\n",
    "    .groupby('diet')\n",
    "    .first()\n",
    ")"
   ]
  },
  {
   "cell_type": "markdown",
   "metadata": {},
   "source": [
    "We can even perform aggregations when our data is grouped by **multiple** columns:"
   ]
  },
  {
   "cell_type": "code",
   "execution_count": null,
   "metadata": {},
   "outputs": [],
   "source": [
    "(\n",
    "    chickweight\n",
    "    .groupby(['diet', 'time'])\n",
    "    .mean()\n",
    ")"
   ]
  },
  {
   "cell_type": "markdown",
   "metadata": {},
   "source": [
    "<a id = 'mult-aggs'></a>\n",
    "## Level 2: Multiple aggregations with `.agg()`\n",
    "\n",
    "We can get the results for more than one aggregation by passing a `set` of the aggregations we want in the `.agg()` method.\n",
    "\n",
    "**Example**: Grouping by time, find the total number of chickens and the mean weight of the chickens"
   ]
  },
  {
   "cell_type": "code",
   "execution_count": null,
   "metadata": {},
   "outputs": [],
   "source": [
    "(\n",
    "    chickweight\n",
    "    .groupby('time')\n",
    "    .agg({'count', 'mean'})\n",
    ")"
   ]
  },
  {
   "cell_type": "markdown",
   "metadata": {},
   "source": [
    "This has it's limitations:\n",
    "\n",
    "We have to return each aggregation for **every** column!\n",
    "\n",
    "To select the columns and perform aggregations on that column only we should pass a `Dict` in the `.agg()` method.\n",
    "\n",
    "**Example**: Find the count value for rownum and mean value for weight when grouped by time"
   ]
  },
  {
   "cell_type": "code",
   "execution_count": null,
   "metadata": {},
   "outputs": [],
   "source": [
    "(\n",
    "    chickweight\n",
    "    .groupby('time')\n",
    "    .agg({'rownum': 'count', \n",
    "          'weight': 'min'})\n",
    ").head()"
   ]
  },
  {
   "cell_type": "markdown",
   "metadata": {},
   "source": [
    "Currently, the column names are a little misleading, i.e. how would someone looking at this table no we have the minimum weight.\n",
    "\n",
    "Also, look what happens if we try to get the min & max for the weight column."
   ]
  },
  {
   "cell_type": "code",
   "execution_count": null,
   "metadata": {},
   "outputs": [],
   "source": [
    "(\n",
    "    chickweight\n",
    "    .groupby('time')\n",
    "    .agg({'rownum': 'count',\n",
    "          'weight': 'min',\n",
    "          'weight': 'max'})\n",
    ").head()"
   ]
  },
  {
   "cell_type": "markdown",
   "metadata": {},
   "source": [
    "To address this issue we should pass the aggregations we want to use as `lists`, rather than `strings`."
   ]
  },
  {
   "cell_type": "code",
   "execution_count": null,
   "metadata": {},
   "outputs": [],
   "source": [
    "(\n",
    "    chickweight\n",
    "    .groupby('time')\n",
    "    .agg({'rownum': ['count'], \n",
    "          'weight': ['min', 'max', 'min']})\n",
    ").head()"
   ]
  },
  {
   "cell_type": "markdown",
   "metadata": {
    "lines_to_next_cell": 0
   },
   "source": [
    "This is just what I wanted, but now has 2 indices in the column names - this could cause issues when working with this new table later...\n",
    "\n",
    "\n",
    "<a id = 'named-agg'></a>\n",
    "## Level 3: Named aggregation\n",
    "\n",
    "To support column-specific aggregation with *control over the output column names*, we can use `pd.NamedAgg`.\n",
    "\n",
    "* The keywords are the *output column names*\n",
    "\n",
    "* The `pd.NamedAgg` can be used with the fields `column=` and `aggfunc=` to make it clearer what the arguments are."
   ]
  },
  {
   "cell_type": "code",
   "execution_count": null,
   "metadata": {},
   "outputs": [],
   "source": [
    "(\n",
    "    chickweight\n",
    "    .groupby('time')\n",
    "    .agg(num_chickens = pd.NamedAgg(column='rownum',aggfunc='count'),\n",
    "         weight_mean = pd.NamedAgg(column='weight',aggfunc='mean')\n",
    "    )\n",
    ").head()"
   ]
  },
  {
   "cell_type": "markdown",
   "metadata": {},
   "source": [
    "We can even use custom functions! Hooray for lambda functions!\n",
    "\n",
    "Let's copy the previous code and add `weight_range = pd.NamedAgg(column = 'weight', aggfunc = lambda x: x.max() - x.min()` as a new aggregate!"
   ]
  },
  {
   "cell_type": "code",
   "execution_count": null,
   "metadata": {},
   "outputs": [],
   "source": [
    "(\n",
    "    chickweight\n",
    "    .groupby(['time', 'diet'])\n",
    "    .agg(number_rows = pd.NamedAgg(column = 'rownum', aggfunc = 'count'),\n",
    "         weight_mean = pd.NamedAgg(column = 'weight', aggfunc = 'mean'),\n",
    "         weight_spread = pd.NamedAgg(column = 'weight', aggfunc = lambda x: x.max() - x.min())\n",
    "    )\n",
    ").head()"
   ]
  },
  {
   "cell_type": "markdown",
   "metadata": {},
   "source": [
    "A dataframe in pandas has an index. When you aggegate and get multiple columns as a result pandas will **automatically put the grouped columns in the index**. \n",
    "\n",
    "Sometimes this is fine, but sometime you might want to undo this operation by resetting the index. You can use `.reset_index()` at the end but it's more efficient to use the in-built parameter `as_index=` in the `.groupby()` method!\n",
    "\n",
    "Note that the index of a dataframe typically has different behavior than a column."
   ]
  },
  {
   "cell_type": "code",
   "execution_count": null,
   "metadata": {},
   "outputs": [],
   "source": [
    "# Get the range using a defined function\n",
    "def get_range(col):\n",
    "    return col.max() - col.min()\n",
    "\n",
    "(\n",
    "    chickweight\n",
    "    .groupby(['time', 'diet'], as_index=False)\n",
    "    .agg(number_rows=pd.NamedAgg(column='rownum', aggfunc=len),\n",
    "         weight_mean=pd.NamedAgg(column='weight', aggfunc='mean'),\n",
    "         weight_spread=pd.NamedAgg(column='weight', aggfunc=get_range)\n",
    "    )\n",
    ").head()"
   ]
  },
  {
   "cell_type": "markdown",
   "metadata": {
    "lines_to_next_cell": 0
   },
   "source": [
    "Note that an index can also be used to do fancy things. For example, it makes it really easy to control axes if we decide to plot the data.\n",
    "<a id = 'ex-aggs'></a>\n",
    "## <mark>Exercise: Using aggregations</mark>\n",
    "\n",
    "Determine the following aggregate information per diet (*optional*: per diet and time):\n",
    "\n",
    "- maximum chick id\n",
    "- median weight\n",
    "- std (standard deviation) of weight\n",
    "\n",
    "- any extras of your choice\n",
    "\n",
    "**bonus points:** use a custom function"
   ]
  },
  {
   "cell_type": "code",
   "execution_count": null,
   "metadata": {
    "lines_to_next_cell": 2
   },
   "outputs": [],
   "source": []
  },
  {
   "cell_type": "code",
   "execution_count": null,
   "metadata": {},
   "outputs": [],
   "source": [
    "# %load answers/ex-aggs.py"
   ]
  }
 ],
 "metadata": {
  "jupytext": {
   "encoding": "# -*- coding: utf-8 -*-",
   "formats": "///ipynb,scripts//py:percent"
  },
  "kernelspec": {
   "display_name": "Python 3",
   "language": "python",
   "name": "python3"
  },
  "language_info": {
   "codemirror_mode": {
    "name": "ipython",
    "version": 3
   },
   "file_extension": ".py",
   "mimetype": "text/x-python",
   "name": "python",
   "nbconvert_exporter": "python",
   "pygments_lexer": "ipython3",
   "version": "3.8.5"
  }
 },
 "nbformat": 4,
 "nbformat_minor": 4
}
